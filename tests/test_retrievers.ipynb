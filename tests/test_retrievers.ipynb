{
 "cells": [
  {
   "cell_type": "code",
   "execution_count": 4,
   "metadata": {},
   "outputs": [],
   "source": [
    "class Atlas:\n",
    "    baseurl = 'https://pds-imaging.jpl.nasa.gov/solr/pds_archives/select?'\n",
    "    \n",
    "    def __init__(self, instr='hirise'):\n",
    "        self.q = f'q=ATLAS_INSTRUMENT_NAME:{instr}'\n",
    "        self.rest = '&facet=true&facet.field=MRO_IMAGE_CLASS&wt=json&indent=true'\n",
    "        self.query = self.baseurl + self.q"
   ]
  },
  {
   "cell_type": "code",
   "execution_count": 5,
   "metadata": {},
   "outputs": [],
   "source": [
    "atlas = Atlas()"
   ]
  },
  {
   "cell_type": "code",
   "execution_count": 6,
   "metadata": {},
   "outputs": [
    {
     "data": {
      "text/plain": [
       "'https://pds-imaging.jpl.nasa.gov/solr/pds_archives/select?q=ATLAS_INSTRUMENT_NAME:hirise'"
      ]
     },
     "execution_count": 6,
     "metadata": {},
     "output_type": "execute_result"
    }
   ],
   "source": [
    "atlas.query"
   ]
  },
  {
   "cell_type": "code",
   "execution_count": 7,
   "metadata": {},
   "outputs": [],
   "source": [
    "import pysolr"
   ]
  },
  {
   "cell_type": "code",
   "execution_count": 8,
   "metadata": {},
   "outputs": [],
   "source": [
    "solr = pysolr.Solr('https://pds-imaging.jpl.nasa.gov/solr/pds_archives/')"
   ]
  },
  {
   "cell_type": "code",
   "execution_count": 36,
   "metadata": {},
   "outputs": [],
   "source": [
    "results = solr.search('ATLAS_INSTRUMENT_NAME:hirise', **{\n",
    "    'facet': 'true',\n",
    "    'facet.field': 'MRO_IMAGE_CLASS',\n",
    "    'rows': 0,\n",
    "})"
   ]
  },
  {
   "cell_type": "markdown",
   "metadata": {},
   "source": [
    "`q=*:*&rows=0&facet&wt=csv&fl=ATLAS_*`"
   ]
  },
  {
   "cell_type": "code",
   "execution_count": 59,
   "metadata": {},
   "outputs": [],
   "source": [
    "results = solr.search('*:*', **{\n",
    "    'rows': 0,\n",
    "    'wt': 'csv',\n",
    "    'facet': 'true',\n",
    "    'fl': 'ATLAS_*',\n",
    "})"
   ]
  },
  {
   "cell_type": "code",
   "execution_count": 60,
   "metadata": {},
   "outputs": [
    {
     "data": {
      "text/plain": [
       "0"
      ]
     },
     "execution_count": 60,
     "metadata": {},
     "output_type": "execute_result"
    }
   ],
   "source": [
    "len(results)"
   ]
  },
  {
   "cell_type": "code",
   "execution_count": 78,
   "metadata": {},
   "outputs": [],
   "source": [
    "url = ('https://pds-imaging.jpl.nasa.gov/solr/pds_archives/select?'\n",
    "       'q=*:*&wt=json&rows=0&facet&fl=ATLAS_*')"
   ]
  },
  {
   "cell_type": "code",
   "execution_count": 75,
   "metadata": {},
   "outputs": [],
   "source": [
    "import requests"
   ]
  },
  {
   "cell_type": "code",
   "execution_count": 79,
   "metadata": {},
   "outputs": [],
   "source": [
    "results = requests.get(url).json()"
   ]
  },
  {
   "cell_type": "code",
   "execution_count": 80,
   "metadata": {},
   "outputs": [
    {
     "data": {
      "text/plain": [
       "{'responseHeader': {'status': 400,\n",
       "  'QTime': 1,\n",
       "  'params': {'q': '*:*',\n",
       "   'fl': 'ATLAS_*',\n",
       "   'rows': '0',\n",
       "   'wt': 'json',\n",
       "   'facet': ''}},\n",
       " 'error': {'metadata': ['error-class',\n",
       "   'org.apache.solr.common.SolrException',\n",
       "   'root-error-class',\n",
       "   'org.apache.solr.common.SolrException'],\n",
       "  'msg': 'invalid boolean value: ',\n",
       "  'code': 400}}"
      ]
     },
     "execution_count": 80,
     "metadata": {},
     "output_type": "execute_result"
    }
   ],
   "source": [
    "results"
   ]
  },
  {
   "cell_type": "code",
   "execution_count": null,
   "metadata": {},
   "outputs": [],
   "source": []
  }
 ],
 "metadata": {
  "kernelspec": {
   "display_name": "Python [conda env:stable]",
   "language": "python",
   "name": "conda-env-stable-py"
  },
  "language_info": {
   "codemirror_mode": {
    "name": "ipython",
    "version": 3
   },
   "file_extension": ".py",
   "mimetype": "text/x-python",
   "name": "python",
   "nbconvert_exporter": "python",
   "pygments_lexer": "ipython3",
   "version": "3.6.5"
  }
 },
 "nbformat": 4,
 "nbformat_minor": 2
}
