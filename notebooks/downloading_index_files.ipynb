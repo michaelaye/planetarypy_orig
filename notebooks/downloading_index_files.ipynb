{
 "cells": [
  {
   "cell_type": "markdown",
   "metadata": {},
   "source": [
    "# Set database path"
   ]
  },
  {
   "cell_type": "code",
   "execution_count": 2,
   "metadata": {},
   "outputs": [],
   "source": [
    "from planetarypy import io"
   ]
  },
  {
   "cell_type": "code",
   "execution_count": 3,
   "metadata": {},
   "outputs": [
    {
     "name": "stdout",
     "output_type": "stream",
     "text": [
      "Saved database path [data_archive]\n",
      "path = \"/Users/klay6683/Dropbox/data/planetarypy/\"\n",
      " into /Users/klay6683/.planetarypy.toml.\n"
     ]
    }
   ],
   "source": [
    "io.set_database_path(\"/Users/klay6683/Dropbox/data/planetarypy/\")"
   ]
  },
  {
   "cell_type": "code",
   "execution_count": 4,
   "metadata": {},
   "outputs": [],
   "source": [
    "from planetarypy.pdstools import indices"
   ]
  },
  {
   "cell_type": "code",
   "execution_count": 5,
   "metadata": {},
   "outputs": [
    {
     "name": "stdout",
     "output_type": "stream",
     "text": [
      "cassini:\n",
      "  iss:\n",
      "    index: https://pds-rings.seti.org/holdings/metadata/COISS_2xxx/COISS_2999/COISS_2999_index.lbl\n",
      "    inventory: https://pds-rings.seti.org/holdings/metadata/COISS_2xxx/COISS_2999/COISS_2999_inventory.lbl\n",
      "    moon_summary: https://pds-rings.seti.org/holdings/metadata/COISS_2xxx/COISS_2999/COISS_2999_moon_summary.lbl\n",
      "    ring_summary: https://pds-rings.seti.org/holdings/metadata/COISS_2xxx/COISS_2999/COISS_2999_ring_summary.lbl\n",
      "    saturn_summary: https://pds-rings.seti.org/holdings/metadata/COISS_2xxx/COISS_2999/COISS_2999_saturn_summary.lbl\n",
      "  uvis:\n",
      "    index: https://pds-rings.seti.org/holdings/metadata/COUVIS_0xxx/COUVIS_0999/COUVIS_0999_index.lbl\n",
      "    moon_summary: https://pds-rings.seti.org/holdings/metadata/COUVIS_0xxx/COUVIS_0999/COUVIS_0999_moon_summary.lbl\n",
      "    ring_summary: https://pds-rings.seti.org/holdings/metadata/COUVIS_0xxx/COUVIS_0999/COUVIS_0999_ring_summary.lbl\n",
      "    saturn_summary: https://pds-rings.seti.org/holdings/metadata/COUVIS_0xxx/COUVIS_0999/COUVIS_0999_saturn_summary.lbl\n",
      "    supplemental_index: https://pds-rings.seti.org/holdings/metadata/COUVIS_0xxx/COUVIS_0999/COUVIS_0999_supplemental_index.lbl\n",
      "mro:\n",
      "  hirise:\n",
      "    dtm: https://hirise-pds.lpl.arizona.edu/PDS/INDEX/DTMCUMINDEX.LBL\n",
      "    edr: https://hirise-pds.lpl.arizona.edu/PDS/INDEX/EDRCUMINDEX.LBL\n",
      "    rdr: https://hirise-pds.lpl.arizona.edu/PDS/INDEX/RDRCUMINDEX.LBL\n",
      "\n",
      "Use indices.download('mission:instrument:index') to download in index file.\n",
      "For example: indices.download('cassini:uvis:moon_summary'\n"
     ]
    }
   ],
   "source": [
    "indices.list_available_index_files()"
   ]
  },
  {
   "cell_type": "markdown",
   "metadata": {
    "toc-hr-collapsed": false
   },
   "source": [
    "# UVIS metadata"
   ]
  },
  {
   "cell_type": "code",
   "execution_count": 3,
   "metadata": {
    "ExecuteTime": {
     "end_time": "2018-07-06T21:29:21.862372Z",
     "start_time": "2018-07-06T21:29:21.101771Z"
    }
   },
   "outputs": [],
   "source": [
    "from planetarypy.pdstools import indices\n",
    "from planetarypy.utils import download\n",
    "from tqdm import tqdm\n",
    "\n",
    "class ProgressBar(tqdm):\n",
    "    \"\"\"Provides `update_to(n)` which uses `tqdm.update(delta_n)`.\"\"\"\n",
    "    def update_to(self, b=1, bsize=1, tsize=None):\n",
    "        \"\"\"\n",
    "        b  : int, optional\n",
    "            Number of blocks transferred so far [default: 1].\n",
    "        bsize  : int, optional\n",
    "            Size of each block (in tqdm units) [default: 1].\n",
    "        tsize  : int, optional\n",
    "            Total size (in tqdm units). If [default: None] remains unchanged.\n",
    "        \"\"\"\n",
    "        if tsize is not None:\n",
    "            self.total = tsize\n",
    "        self.update(b * bsize - self.n)  # will also set self.n = b * bsize\n",
    "\n",
    "META_URL = 'http://pds-rings.seti.org/metadata'\n",
    "\n",
    "\n",
    "class META:\n",
    "    INDICES = {'index': 'Cumulative product index of volume series',\n",
    "               'inventory': 'Cumulative list of observed bodies by product',\n",
    "               'moon_summary': 'Cumulative list of observed geometry on moons',\n",
    "               'ring_summary': 'Cumulative list of observed geometry on rings',\n",
    "               'saturn_summary': 'Cumulative list of observed geometry on Saturn'\n",
    "               }\n",
    "\n",
    "    def __init__(self, name=''):\n",
    "        if name == '':\n",
    "            print(\"Call me with one of the following index names:\")\n",
    "            for k,v in self.INDICES.items():\n",
    "                print(k,\": \", v)\n",
    "            raise ValueError(\"Provide index name.\")\n",
    "        else:\n",
    "            self._name = name\n",
    "        \n",
    "    @property\n",
    "    def name(self):\n",
    "        return self._name\n",
    "    \n",
    "    @property\n",
    "    def folder_url(self):\n",
    "        return META_URL + f'/CO{self.id}xxx/CO{self.id}999/'\n",
    "        \n",
    "    @property\n",
    "    def meta_filename(self):\n",
    "        return f'CO{self.id}999_{self.name}'\n",
    "            \n",
    "    @property\n",
    "    def label_url(self):\n",
    "        return self.folder_url + self.meta_filename + '.lbl'\n",
    "    \n",
    "    @property\n",
    "    def table_url(self):\n",
    "        return self.folder_url + self.meta_filename + '.tab'\n",
    "    \n",
    "    def download_table(self, local_folder='.'):\n",
    "        baseurl = self.folder_url + self.meta_filename\n",
    "        for ext in ['.lbl', '.tab']:\n",
    "            filename = self.meta_filename + ext\n",
    "            url = self.folder_url + filename\n",
    "            local_path = f\"{local_folder}/{filename}\"\n",
    "            print(\"Downloading\", local_path)\n",
    "            with ProgressBar(unit='B', unit_scale=True, miniters=1, desc=url) as t:\n",
    "                download(url, local_path, reporthook=t.update_to, data=None)\n",
    "    \n",
    "    @property\n",
    "    def label(self):\n",
    "        return indices.IndexLabel(self.meta_filename + '.lbl')\n",
    "\n",
    "    def read_table(self, **kwargs):\n",
    "        return self.label.read_index_data(**kwargs)\n",
    "\n",
    "    \n",
    "class UVIS_META(META):\n",
    "    id = 'UVIS_0'\n",
    "    INDICES = {'index': 'Cumulative product index of volume series',\n",
    "           'supplemental_index': 'Cumulative product index of volume series',\n",
    "           'moon_summary': 'Cumulative list of observed geometry on moons',\n",
    "           'ring_summary': 'Cumulative list of observed geometry on rings',\n",
    "           'saturn_summary': 'Cumulative list of observed geometry on Saturn'\n",
    "           }\n",
    "    \n",
    "class ISS_META(META):\n",
    "    id = 'ISS_2'\n",
    "\n",
    "class VIMS_META(META):\n",
    "    id = 'VIMS_0'"
   ]
  },
  {
   "cell_type": "code",
   "execution_count": null,
   "metadata": {
    "ExecuteTime": {
     "end_time": "2018-07-06T21:29:31.296277Z",
     "start_time": "2018-07-06T21:29:31.263117Z"
    }
   },
   "outputs": [],
   "source": [
    "meta = UVIS_META('index')"
   ]
  },
  {
   "cell_type": "code",
   "execution_count": null,
   "metadata": {
    "ExecuteTime": {
     "end_time": "2018-07-06T21:31:09.068886Z",
     "start_time": "2018-07-06T21:31:09.035647Z"
    }
   },
   "outputs": [],
   "source": [
    "meta.label_url"
   ]
  },
  {
   "cell_type": "code",
   "execution_count": null,
   "metadata": {
    "ExecuteTime": {
     "end_time": "2018-07-06T21:31:21.490287Z",
     "start_time": "2018-07-06T21:31:21.453812Z"
    }
   },
   "outputs": [],
   "source": [
    "meta.label_url"
   ]
  },
  {
   "cell_type": "code",
   "execution_count": null,
   "metadata": {
    "ExecuteTime": {
     "end_time": "2018-07-06T21:30:54.235063Z",
     "start_time": "2018-07-06T21:30:54.182177Z"
    },
    "scrolled": false
   },
   "outputs": [],
   "source": [
    "lbl = meta.label"
   ]
  },
  {
   "cell_type": "code",
   "execution_count": null,
   "metadata": {
    "ExecuteTime": {
     "end_time": "2018-02-06T01:32:45.522034Z",
     "start_time": "2018-02-06T01:32:45.504717Z"
    }
   },
   "outputs": [],
   "source": [
    "lbl.index_path"
   ]
  },
  {
   "cell_type": "code",
   "execution_count": null,
   "metadata": {
    "ExecuteTime": {
     "end_time": "2018-02-06T03:01:27.218113Z",
     "start_time": "2018-02-06T03:01:27.201960Z"
    }
   },
   "outputs": [],
   "source": [
    "meta = ISS_META('ring_summary')"
   ]
  },
  {
   "cell_type": "code",
   "execution_count": null,
   "metadata": {
    "ExecuteTime": {
     "end_time": "2018-02-06T03:20:39.194805Z",
     "start_time": "2018-02-06T03:01:32.961333Z"
    },
    "scrolled": false
   },
   "outputs": [],
   "source": [
    "meta.download_table()"
   ]
  },
  {
   "cell_type": "code",
   "execution_count": null,
   "metadata": {
    "ExecuteTime": {
     "end_time": "2018-07-06T21:30:33.140122Z",
     "start_time": "2018-07-06T21:30:33.030329Z"
    }
   },
   "outputs": [],
   "source": [
    "meta.read_table??"
   ]
  },
  {
   "cell_type": "code",
   "execution_count": null,
   "metadata": {
    "ExecuteTime": {
     "end_time": "2018-07-06T21:29:54.025601Z",
     "start_time": "2018-07-06T21:29:53.742235Z"
    }
   },
   "outputs": [],
   "source": [
    "index = meta.read_table(convert_times=True)"
   ]
  },
  {
   "cell_type": "code",
   "execution_count": null,
   "metadata": {},
   "outputs": [],
   "source": [
    "index.to_hdf(\"coiss_index.hdf\", 'df')"
   ]
  },
  {
   "cell_type": "code",
   "execution_count": 81,
   "metadata": {},
   "outputs": [],
   "source": [
    "from planetarypy.pdstools import indices"
   ]
  },
  {
   "cell_type": "code",
   "execution_count": 82,
   "metadata": {},
   "outputs": [
    {
     "name": "stdout",
     "output_type": "stream",
     "text": [
      "cassini:\n",
      "  iss:\n",
      "    index: https://pds-rings.seti.org/holdings/metadata/COISS_2xxx/COISS_2999/COISS_2999_index.lbl\n",
      "    inventory: https://pds-rings.seti.org/holdings/metadata/COISS_2xxx/COISS_2999/COISS_2999_inventory.lbl\n",
      "    moon_summary: https://pds-rings.seti.org/holdings/metadata/COISS_2xxx/COISS_2999/COISS_2999_moon_summary.lbl\n",
      "    ring_summary: https://pds-rings.seti.org/holdings/metadata/COISS_2xxx/COISS_2999/COISS_2999_ring_summary.lbl\n",
      "    saturn_summary: https://pds-rings.seti.org/holdings/metadata/COISS_2xxx/COISS_2999/COISS_2999_saturn_summary.lbl\n",
      "  uvis:\n",
      "    index: https://pds-rings.seti.org/holdings/metadata/COUVIS_0xxx/COUVIS_0999/COUVIS_0999_index.lbl\n",
      "    moon_summary: https://pds-rings.seti.org/holdings/metadata/COUVIS_0xxx/COUVIS_0999/COUVIS_0999_moon_summary.lbl\n",
      "mro:\n",
      "  hirise:\n",
      "    dtm: https://hirise-pds.lpl.arizona.edu/PDS/INDEX/DTMCUMINDEX.LBL\n",
      "    edr: https://hirise-pds.lpl.arizona.edu/PDS/INDEX/EDRCUMINDEX.LBL\n",
      "    rdr: https://hirise-pds.lpl.arizona.edu/PDS/INDEX/RDRCUMINDEX.LBL\n",
      "\n",
      "Use indices.download('mission:instrument:index') to download in index file.\n",
      "For example: indices.download('cassini:uvis:moon_summary'\n"
     ]
    }
   ],
   "source": [
    "indices.list_available_index_files()"
   ]
  },
  {
   "cell_type": "code",
   "execution_count": 83,
   "metadata": {},
   "outputs": [],
   "source": [
    "from pyciss import index"
   ]
  },
  {
   "cell_type": "code",
   "execution_count": 84,
   "metadata": {},
   "outputs": [
    {
     "name": "stderr",
     "output_type": "stream",
     "text": [
      "2018-12-10 01:14:31,587 - planetarypy.pdstools.indices - Downloading https://pds-rings.seti.org/holdings/metadata/COISS_2xxx/COISS_2999/COISS_2999_ring_summary.lbl.\n",
      "2018-12-10 01:14:31,588 - planetarypy.utils - Downloading https://pds-rings.seti.org/holdings/metadata/COISS_2xxx/COISS_2999/COISS_2999_ring_summary.lbl into /Users/klay6683/Dropbox/data/ciss/db\n"
     ]
    },
    {
     "data": {
      "application/vnd.jupyter.widget-view+json": {
       "model_id": "06dabab44d284ebd8d49baad883d3971",
       "version_major": 2,
       "version_minor": 0
      },
      "text/plain": [
       "HBox(children=(IntProgress(value=1, bar_style='info', description='COISS_2999_ring_summary.lbl', max=1, style=…"
      ]
     },
     "metadata": {},
     "output_type": "display_data"
    },
    {
     "name": "stderr",
     "output_type": "stream",
     "text": [
      "2018-12-10 01:14:32,355 - planetarypy.pdstools.indices - Downloading https://pds-rings.seti.org/holdings/metadata/COISS_2xxx/COISS_2999/COISS_2999_ring_summary.tab.\n",
      "2018-12-10 01:14:32,356 - planetarypy.utils - Downloading https://pds-rings.seti.org/holdings/metadata/COISS_2xxx/COISS_2999/COISS_2999_ring_summary.tab into /Users/klay6683/Dropbox/data/ciss/db\n"
     ]
    },
    {
     "name": "stdout",
     "output_type": "stream",
     "text": [
      "\n"
     ]
    },
    {
     "data": {
      "application/vnd.jupyter.widget-view+json": {
       "model_id": "1ce84c7ec1674aac839a71ffe70bf4c0",
       "version_major": 2,
       "version_minor": 0
      },
      "text/plain": [
       "HBox(children=(IntProgress(value=1, bar_style='info', description='COISS_2999_ring_summary.tab', max=1, style=…"
      ]
     },
     "metadata": {},
     "output_type": "display_data"
    },
    {
     "name": "stdout",
     "output_type": "stream",
     "text": [
      "\n",
      "Done.\n",
      "Downloaded and converted to pandas HDF: /Users/klay6683/Dropbox/data/ciss/db/COISS_2999_ring_summary.hdf\n"
     ]
    }
   ],
   "source": [
    "index.download_ring_summary_index()"
   ]
  },
  {
   "cell_type": "code",
   "execution_count": 59,
   "metadata": {},
   "outputs": [],
   "source": [
    "from nbtools.logging import setup_live_logging"
   ]
  },
  {
   "cell_type": "code",
   "execution_count": 60,
   "metadata": {},
   "outputs": [
    {
     "data": {
      "text/plain": [
       "<Logger planetarypy (DEBUG)>"
      ]
     },
     "execution_count": 60,
     "metadata": {},
     "output_type": "execute_result"
    }
   ],
   "source": [
    "setup_live_logging('planetarypy', 'DEBUG')"
   ]
  },
  {
   "cell_type": "code",
   "execution_count": 66,
   "metadata": {},
   "outputs": [],
   "source": [
    "from planetarypy.utils import download"
   ]
  },
  {
   "cell_type": "code",
   "execution_count": 67,
   "metadata": {},
   "outputs": [
    {
     "data": {
      "text/plain": [
       "'https://pds-rings.seti.org/holdings/metadata/COISS_2xxx/COISS_2999/COISS_2999_index.lbl'"
      ]
     },
     "execution_count": 67,
     "metadata": {},
     "output_type": "execute_result"
    }
   ],
   "source": [
    "url"
   ]
  },
  {
   "cell_type": "code",
   "execution_count": 70,
   "metadata": {},
   "outputs": [],
   "source": [
    "p = Path('./downloads')\n",
    "p.mkdir()"
   ]
  },
  {
   "cell_type": "code",
   "execution_count": 71,
   "metadata": {},
   "outputs": [
    {
     "name": "stderr",
     "output_type": "stream",
     "text": [
      "2018-12-09 23:36:00,857 - planetarypy.utils - Downloading https://pds-rings.seti.org/holdings/metadata/COISS_2xxx/COISS_2999/COISS_2999_index.lbl into downloads\n"
     ]
    },
    {
     "data": {
      "application/vnd.jupyter.widget-view+json": {
       "model_id": "b673c67ebedc4327b9d35ba075a78abb",
       "version_major": 2,
       "version_minor": 0
      },
      "text/plain": [
       "HBox(children=(IntProgress(value=1, bar_style='info', description='COISS_2999_index.lbl', max=1, style=Progres…"
      ]
     },
     "metadata": {},
     "output_type": "display_data"
    },
    {
     "name": "stdout",
     "output_type": "stream",
     "text": [
      "\n"
     ]
    }
   ],
   "source": [
    "ret = download(url, p)"
   ]
  },
  {
   "cell_type": "code",
   "execution_count": null,
   "metadata": {},
   "outputs": [],
   "source": [
    "indices.download('cassini:iss:index')"
   ]
  },
  {
   "cell_type": "code",
   "execution_count": 4,
   "metadata": {},
   "outputs": [
    {
     "data": {
      "text/plain": [
       "('python.png', <http.client.HTTPMessage at 0x11180a0b8>)"
      ]
     },
     "execution_count": 4,
     "metadata": {},
     "output_type": "execute_result"
    }
   ],
   "source": [
    "url = 'https://pds-rings.seti.org/holdings/metadata/COISS_2xxx/COISS_2999/COISS_2999_index.lbl'\n",
    " \n",
    "# downloading with urllib\n",
    " \n",
    "# imported the urllib library\n",
    "import urllib\n",
    " \n",
    "# Copy a network object to a local file\n",
    "urllib.request.urlretrieve(url, \"python.png\")"
   ]
  },
  {
   "cell_type": "code",
   "execution_count": 13,
   "metadata": {},
   "outputs": [],
   "source": [
    "label = indices.IndexLabel(\"/Users/klay6683/Dropbox/data/planetarypy/EDRCUMINDEX.LBL\")"
   ]
  },
  {
   "cell_type": "code",
   "execution_count": 14,
   "metadata": {},
   "outputs": [
    {
     "name": "stdout",
     "output_type": "stream",
     "text": [
      "Converting times for column OBSERVATION_START_TIME.\n",
      "Converting times for column START_TIME.\n",
      "Converting times for column STOP_TIME.\n",
      "Done.\n"
     ]
    }
   ],
   "source": [
    "df = label.read_index_data()"
   ]
  },
  {
   "cell_type": "code",
   "execution_count": 15,
   "metadata": {},
   "outputs": [
    {
     "name": "stderr",
     "output_type": "stream",
     "text": [
      "/Users/klay6683/miniconda3/envs/py37/lib/python3.7/site-packages/pandas/core/generic.py:1996: PerformanceWarning: \n",
      "your performance may suffer as PyTables will pickle object types that it cannot\n",
      "map directly to c-types [inferred_type->mixed,key->block3_values] [items->['VOLUME_ID', 'FILE_NAME_SPECIFICATION', 'INSTRUMENT_HOST_ID', 'INSTRUMENT_ID', 'OBSERVATION_ID', 'PRODUCT_ID', 'HICAL_VERSION', 'TARGET_NAME', 'MISSION_PHASE_NAME', 'RATIONALE_DESC', 'OBSERVATION_START_COUNT', 'SPACECRAFT_CLOCK_START_COUNT', 'SPACECRAFT_CLOCK_STOP_COUNT', 'CCD_NAME', 'FILTER_NAME', 'FELICS_COMPRESSION_FLAG', 'STIMULATION_LAMP_FLAG_RED', 'STIMULATION_LAMP_FLAG_BLUEGREEN', 'STIMULATION_LAMP_FLAG_NEARINFRARED', 'LOOKUP_TABLE_TYPE', 'STEREO_FLAG']]\n",
      "\n",
      "  return pytables.to_hdf(path_or_buf, key, self, **kwargs)\n"
     ]
    }
   ],
   "source": [
    "df.to_hdf(\"/Users/klay6683/local_data/EDRCUMINDEX.hdf\", 'df')"
   ]
  },
  {
   "cell_type": "code",
   "execution_count": null,
   "metadata": {
    "ExecuteTime": {
     "end_time": "2018-07-10T15:28:19.193267Z",
     "start_time": "2018-07-10T15:28:18.993763Z"
    }
   },
   "outputs": [],
   "source": [
    "lab = indices.IndexLabel(\"/Volumes/USB128II/uvis/COUVIS_0999_index.lbl\")"
   ]
  },
  {
   "cell_type": "code",
   "execution_count": null,
   "metadata": {
    "ExecuteTime": {
     "end_time": "2018-07-07T03:51:18.024996Z",
     "start_time": "2018-07-07T03:50:59.708698Z"
    }
   },
   "outputs": [],
   "source": [
    "df = lab.read_index_data(convert_times=False)"
   ]
  },
  {
   "cell_type": "code",
   "execution_count": null,
   "metadata": {
    "ExecuteTime": {
     "end_time": "2018-07-07T03:51:20.253547Z",
     "start_time": "2018-07-07T03:51:20.216484Z"
    }
   },
   "outputs": [],
   "source": [
    "time_cols = [col for col in df.columns if 'TIME' in col]\n",
    "time_cols"
   ]
  },
  {
   "cell_type": "code",
   "execution_count": null,
   "metadata": {
    "ExecuteTime": {
     "end_time": "2018-07-10T15:28:45.797557Z",
     "start_time": "2018-07-10T15:28:43.581315Z"
    }
   },
   "outputs": [],
   "source": [
    "df = pd.read_hdf(\"/Volumes/USB128II/uvis/COUVIS_0999_index.hdf\")"
   ]
  },
  {
   "cell_type": "code",
   "execution_count": null,
   "metadata": {
    "ExecuteTime": {
     "end_time": "2018-07-10T15:28:52.481818Z",
     "start_time": "2018-07-10T15:28:52.442976Z"
    }
   },
   "outputs": [],
   "source": [
    "df.columns"
   ]
  },
  {
   "cell_type": "code",
   "execution_count": null,
   "metadata": {
    "ExecuteTime": {
     "end_time": "2018-07-10T15:27:58.880614Z",
     "start_time": "2018-07-10T15:27:48.331977Z"
    }
   },
   "outputs": [],
   "source": [
    "df.to_hdf(\"/Volumes/USB128II/uvis/COUVIS_0999_supplemental_index.hdf\", 'df')"
   ]
  },
  {
   "cell_type": "code",
   "execution_count": null,
   "metadata": {
    "ExecuteTime": {
     "end_time": "2018-07-10T15:27:13.768223Z",
     "start_time": "2018-07-10T15:27:13.578618Z"
    }
   },
   "outputs": [],
   "source": [
    "df.START_TIME.head()"
   ]
  },
  {
   "cell_type": "code",
   "execution_count": null,
   "metadata": {
    "ExecuteTime": {
     "end_time": "2018-07-06T21:34:44.019957Z",
     "start_time": "2018-07-06T21:34:43.973697Z"
    }
   },
   "outputs": [],
   "source": [
    "from planetarypy.utils import nasa_datetime_to_iso"
   ]
  },
  {
   "cell_type": "code",
   "execution_count": null,
   "metadata": {
    "ExecuteTime": {
     "end_time": "2018-07-06T21:35:48.811068Z",
     "start_time": "2018-07-06T21:35:48.765452Z"
    }
   },
   "outputs": [],
   "source": [
    "nasa_datetime_to_iso('1999-01-07T16:53:07.953')"
   ]
  },
  {
   "cell_type": "code",
   "execution_count": null,
   "metadata": {
    "ExecuteTime": {
     "end_time": "2018-07-06T21:38:24.077964Z",
     "start_time": "2018-07-06T21:38:20.701015Z"
    }
   },
   "outputs": [],
   "source": [
    "df.to_hdf(\"/Volumes/USB128II/uvis/COUVIS_0999_index.hdf\", 'df')"
   ]
  },
  {
   "cell_type": "code",
   "execution_count": null,
   "metadata": {
    "ExecuteTime": {
     "end_time": "2018-07-06T21:39:53.051580Z",
     "start_time": "2018-07-06T21:39:53.000824Z"
    }
   },
   "outputs": [],
   "source": [
    "df.columns"
   ]
  },
  {
   "cell_type": "code",
   "execution_count": null,
   "metadata": {
    "ExecuteTime": {
     "end_time": "2018-07-07T03:38:26.421969Z",
     "start_time": "2018-07-07T03:38:26.378591Z"
    }
   },
   "outputs": [],
   "source": [
    "df.H_LEVEL.value_counts"
   ]
  },
  {
   "cell_type": "code",
   "execution_count": null,
   "metadata": {
    "ExecuteTime": {
     "end_time": "2018-07-06T21:40:05.080935Z",
     "start_time": "2018-07-06T21:40:04.996352Z"
    }
   },
   "outputs": [],
   "source": [
    "df.TARGET_NAME.value_counts()"
   ]
  },
  {
   "cell_type": "code",
   "execution_count": null,
   "metadata": {
    "ExecuteTime": {
     "end_time": "2018-07-07T02:37:14.531850Z",
     "start_time": "2018-07-07T02:37:13.690895Z"
    }
   },
   "outputs": [],
   "source": [
    "df.OBSERVATION_TYPE.value_counts(dropna=False)"
   ]
  },
  {
   "cell_type": "code",
   "execution_count": null,
   "metadata": {
    "ExecuteTime": {
     "end_time": "2018-07-07T02:40:16.802410Z",
     "start_time": "2018-07-07T02:40:16.646836Z"
    }
   },
   "outputs": [],
   "source": []
  },
  {
   "cell_type": "code",
   "execution_count": null,
   "metadata": {},
   "outputs": [],
   "source": [
    "df = df.assign(fname=df.FILE_SPECIFICATION_NAME.map(lambda x: x.split('/')[-1][:-4]))"
   ]
  },
  {
   "cell_type": "code",
   "execution_count": null,
   "metadata": {},
   "outputs": [],
   "source": [
    "df.fname.is_unique"
   ]
  },
  {
   "cell_type": "code",
   "execution_count": null,
   "metadata": {},
   "outputs": [],
   "source": [
    "index = pd.read_hdf(\"/Volumes/Research/pyciss/coiss_index.hdf\")\n",
    "index= index.assign(fname=index.FILE_SPECIFICATION_NAME.map(lambda x: x.split('/')[-1][:-4]))"
   ]
  },
  {
   "cell_type": "code",
   "execution_count": null,
   "metadata": {},
   "outputs": [],
   "source": [
    "rings = index[index.TARGET_DESC.str.contains('Saturn-Rings')]"
   ]
  },
  {
   "cell_type": "code",
   "execution_count": null,
   "metadata": {},
   "outputs": [],
   "source": [
    "dataset = df.merge(rings, on='fname')"
   ]
  },
  {
   "cell_type": "code",
   "execution_count": null,
   "metadata": {},
   "outputs": [],
   "source": [
    "dataset.shape"
   ]
  },
  {
   "cell_type": "code",
   "execution_count": null,
   "metadata": {},
   "outputs": [],
   "source": [
    "dataset[dataset.COARSEST_RADIAL_RESOLUTION<0] = np.nan"
   ]
  },
  {
   "cell_type": "code",
   "execution_count": null,
   "metadata": {},
   "outputs": [],
   "source": [
    "dataset[dataset.FINEST_RADIAL_RESOLUTION < 0] = np.nan"
   ]
  },
  {
   "cell_type": "code",
   "execution_count": null,
   "metadata": {},
   "outputs": [],
   "source": [
    "dataset.COARSEST_RADIAL_RESOLUTION.hist(range=(0,1))"
   ]
  },
  {
   "cell_type": "code",
   "execution_count": null,
   "metadata": {},
   "outputs": [],
   "source": [
    "dataset.FINEST_RADIAL_RESOLUTION.hist(range=(0,1))"
   ]
  },
  {
   "cell_type": "code",
   "execution_count": null,
   "metadata": {},
   "outputs": [],
   "source": [
    "dataset.query(\"COARSEST_RADIAL_RESOLUTION<0.4\").IMAGE_TIME.str[:4].value_counts()"
   ]
  },
  {
   "cell_type": "code",
   "execution_count": null,
   "metadata": {
    "scrolled": false
   },
   "outputs": [],
   "source": [
    "dataset.query(\"'N1467345090' in fname\")"
   ]
  },
  {
   "cell_type": "code",
   "execution_count": null,
   "metadata": {},
   "outputs": [],
   "source": [
    "index[index.fname.str.contains('N1467345090')].TARGET_NAME"
   ]
  },
  {
   "cell_type": "code",
   "execution_count": null,
   "metadata": {},
   "outputs": [],
   "source": [
    "dataset.dropna(how='all', inplace=True)"
   ]
  },
  {
   "cell_type": "code",
   "execution_count": null,
   "metadata": {},
   "outputs": [],
   "source": [
    "dataset[dataset.fname.str.contains('N1467345090')]"
   ]
  },
  {
   "cell_type": "code",
   "execution_count": null,
   "metadata": {},
   "outputs": [],
   "source": []
  },
  {
   "cell_type": "code",
   "execution_count": null,
   "metadata": {},
   "outputs": [],
   "source": [
    "img_list = dataset.query(\"COARSEST_RADIAL_RESOLUTION<0.01\")"
   ]
  },
  {
   "cell_type": "code",
   "execution_count": null,
   "metadata": {},
   "outputs": [],
   "source": [
    "img_list.shape"
   ]
  },
  {
   "cell_type": "code",
   "execution_count": null,
   "metadata": {},
   "outputs": [],
   "source": [
    "img_list.TARGET_DESC.value_counts()"
   ]
  },
  {
   "cell_type": "code",
   "execution_count": null,
   "metadata": {},
   "outputs": [],
   "source": [
    "ringdata = index[index.TARGET_DESC.str.contains('ring', case=False)]"
   ]
  },
  {
   "cell_type": "code",
   "execution_count": null,
   "metadata": {},
   "outputs": [],
   "source": [
    "ringdata.TARGET_DESC.value_counts()"
   ]
  },
  {
   "cell_type": "code",
   "execution_count": null,
   "metadata": {},
   "outputs": [],
   "source": []
  },
  {
   "cell_type": "code",
   "execution_count": null,
   "metadata": {},
   "outputs": [],
   "source": [
    "from pyciss import downloader"
   ]
  },
  {
   "cell_type": "code",
   "execution_count": null,
   "metadata": {},
   "outputs": [],
   "source": [
    "downloader.download_file_id(img_list.fname.iloc[0])"
   ]
  },
  {
   "cell_type": "code",
   "execution_count": null,
   "metadata": {},
   "outputs": [],
   "source": [
    "from tqdm import tqdm"
   ]
  },
  {
   "cell_type": "code",
   "execution_count": null,
   "metadata": {},
   "outputs": [],
   "source": [
    "index['fname'] = index.FILE_SPECIFICATION_NAME.map(lambda x: x.split('/')[-1][:-4])"
   ]
  },
  {
   "cell_type": "code",
   "execution_count": null,
   "metadata": {},
   "outputs": [],
   "source": [
    "index['fname'].head()"
   ]
  },
  {
   "cell_type": "code",
   "execution_count": null,
   "metadata": {},
   "outputs": [],
   "source": [
    "dataset = img_list.merge(index, on='fname')"
   ]
  },
  {
   "cell_type": "code",
   "execution_count": null,
   "metadata": {},
   "outputs": [],
   "source": []
  },
  {
   "cell_type": "code",
   "execution_count": null,
   "metadata": {},
   "outputs": [],
   "source": [
    "dataset = pd.read_hdf('dataset_metadata.hdf', 'df')"
   ]
  },
  {
   "cell_type": "code",
   "execution_count": null,
   "metadata": {},
   "outputs": [],
   "source": [
    "dataset.filter(regex='TIME').columns"
   ]
  },
  {
   "cell_type": "code",
   "execution_count": null,
   "metadata": {},
   "outputs": [],
   "source": [
    "from pyciss.pipeline import Calibrator\n",
    "from pyciss import io"
   ]
  },
  {
   "cell_type": "code",
   "execution_count": null,
   "metadata": {},
   "outputs": [],
   "source": [
    "from pysis.exceptions import ProcessError"
   ]
  },
  {
   "cell_type": "code",
   "execution_count": null,
   "metadata": {},
   "outputs": [],
   "source": [
    "def calib_image(fname):\n",
    "    pm = io.PathManager(fname)\n",
    "    if pm.cubepath.exists():\n",
    "        return\n",
    "    calib = Calibrator(fname, final_resolution=100)\n",
    "    try:\n",
    "        calib.standard_calib()\n",
    "    except ProcessError as e:\n",
    "        print(e.stderr)\n",
    "        "
   ]
  },
  {
   "cell_type": "code",
   "execution_count": null,
   "metadata": {
    "scrolled": true
   },
   "outputs": [],
   "source": [
    "dataset.fname.map(calib_image)"
   ]
  },
  {
   "cell_type": "code",
   "execution_count": null,
   "metadata": {},
   "outputs": [],
   "source": [
    "from planetarypy.utils import nasa_datetime_to_iso"
   ]
  },
  {
   "cell_type": "code",
   "execution_count": null,
   "metadata": {},
   "outputs": [],
   "source": [
    "dataset['time'] = pd.to_datetime(dataset.IMAGE_TIME.map(nasa_datetime_to_iso))"
   ]
  },
  {
   "cell_type": "code",
   "execution_count": null,
   "metadata": {},
   "outputs": [],
   "source": [
    "dataset.time"
   ]
  },
  {
   "cell_type": "code",
   "execution_count": null,
   "metadata": {},
   "outputs": [],
   "source": [
    "newer = dataset[pd.DatetimeIndex(dataset.time).year >2014].fname"
   ]
  },
  {
   "cell_type": "code",
   "execution_count": null,
   "metadata": {},
   "outputs": [],
   "source": [
    "from pyciss.ringcube import RingCube"
   ]
  },
  {
   "cell_type": "code",
   "execution_count": null,
   "metadata": {},
   "outputs": [],
   "source": [
    "dataset.TARGET_NAME.value_counts()"
   ]
  },
  {
   "cell_type": "code",
   "execution_count": null,
   "metadata": {},
   "outputs": [],
   "source": [
    "imp"
   ]
  },
  {
   "cell_type": "code",
   "execution_count": null,
   "metadata": {},
   "outputs": [],
   "source": [
    "calib_image(newer.iloc[6])"
   ]
  },
  {
   "cell_type": "code",
   "execution_count": null,
   "metadata": {},
   "outputs": [],
   "source": [
    "cube = RingCube(newer.iloc[0])"
   ]
  },
  {
   "cell_type": "code",
   "execution_count": null,
   "metadata": {},
   "outputs": [],
   "source": [
    "cube.imshow()"
   ]
  },
  {
   "cell_type": "markdown",
   "metadata": {},
   "source": [
    "# CTX"
   ]
  },
  {
   "cell_type": "code",
   "execution_count": 116,
   "metadata": {},
   "outputs": [],
   "source": [
    "from string import Template\n",
    "from pathlib import Path\n",
    "\n",
    "class CTXIndex:\n",
    "    volumes_url = \"https://pds-imaging.jpl.nasa.gov/volumes/mro.html\"\n",
    "    release_url_template = \\\n",
    "        Template(\"https://pds-imaging.jpl.nasa.gov/volumes/mro/release${release}.html\")\n",
    "    volume_url_template = \\\n",
    "        Template(\"https://pds-imaging.jpl.nasa.gov/data/mro/mars_reconnaissance_orbiter/ctx/mrox_${volume}/\")\n",
    "    @property\n",
    "    def web_tables_list(self):\n",
    "        print(\"Scraping volumes page ...\")\n",
    "        return pd.read_html(self.volumes_url)\n",
    "    \n",
    "    @property\n",
    "    def release_number(self):\n",
    "        l = self.web_tables_list\n",
    "        # The last item of last table looks like \"Release XX\"\n",
    "        return l[-1].iloc[-1, 0].split()[-1]\n",
    "        \n",
    "    @property\n",
    "    def release_url(self):\n",
    "        return self.release_url_template.substitute(release=self.release_number)\n",
    "    \n",
    "    @property\n",
    "    def latest_volume_url(self):\n",
    "        print(\"Scraping latest release page ...\")\n",
    "        l = pd.read_html(self.release_url)\n",
    "        # get last row of 4th table\n",
    "        row = l[3].iloc[-1]\n",
    "        number = None\n",
    "        # first number that is NAN breaks the loop over last row of table\n",
    "        for elem in row.values:\n",
    "            try:\n",
    "                number = int(elem.split()[-1])\n",
    "            except AttributeError:\n",
    "                break\n",
    "        return self.volume_url_template.substitute(volume=number)\n",
    "    \n",
    "    @property\n",
    "    def latest_index_label_url(self):\n",
    "        return f\"{self.latest_volume_url}index/cumindex.lbl\"\n",
    "    "
   ]
  },
  {
   "cell_type": "code",
   "execution_count": 117,
   "metadata": {},
   "outputs": [],
   "source": [
    "index = CTXIndex()"
   ]
  },
  {
   "cell_type": "code",
   "execution_count": 118,
   "metadata": {},
   "outputs": [
    {
     "name": "stdout",
     "output_type": "stream",
     "text": [
      "Scraping latest release page ...\n",
      "Scraping volumes page ...\n"
     ]
    },
    {
     "data": {
      "text/plain": [
       "'https://pds-imaging.jpl.nasa.gov/data/mro/mars_reconnaissance_orbiter/ctx/mrox_3267/index/cumindex.lbl'"
      ]
     },
     "execution_count": 118,
     "metadata": {},
     "output_type": "execute_result"
    }
   ],
   "source": [
    "index.latest_index_label_url"
   ]
  },
  {
   "cell_type": "code",
   "execution_count": 119,
   "metadata": {},
   "outputs": [],
   "source": [
    "from planetarypy.pdstools import indices"
   ]
  },
  {
   "cell_type": "code",
   "execution_count": 121,
   "metadata": {},
   "outputs": [
    {
     "name": "stdout",
     "output_type": "stream",
     "text": [
      "Scraping latest release page ...\n",
      "Scraping volumes page ...\n"
     ]
    },
    {
     "data": {
      "application/vnd.jupyter.widget-view+json": {
       "model_id": "a7c8008db0f24702b3e4661a9c1bba02",
       "version_major": 2,
       "version_minor": 0
      },
      "text/plain": [
       "HBox(children=(IntProgress(value=1, bar_style='info', description='cumindex.lbl', max=1, style=ProgressStyle(d…"
      ]
     },
     "metadata": {},
     "output_type": "display_data"
    },
    {
     "name": "stdout",
     "output_type": "stream",
     "text": [
      "\n"
     ]
    },
    {
     "data": {
      "application/vnd.jupyter.widget-view+json": {
       "model_id": "1eb53db6a8a045f3a92051b0fdd90217",
       "version_major": 2,
       "version_minor": 0
      },
      "text/plain": [
       "HBox(children=(IntProgress(value=1, bar_style='info', description='cumindex.tab', max=1, style=ProgressStyle(d…"
      ]
     },
     "metadata": {},
     "output_type": "display_data"
    },
    {
     "name": "stdout",
     "output_type": "stream",
     "text": [
      "\n",
      "Converting times for column IMAGE_TIME.\n",
      "Done.\n",
      "Downloaded and converted to pandas HDF: /Users/klay6683/Dropbox/data/ctx/cumindex.hdf\n"
     ]
    }
   ],
   "source": [
    "indices.download(label_url=index.latest_index_label_url, \n",
    "                 local_dir=Path(\"~/Dropbox/data/ctx\").expanduser())"
   ]
  },
  {
   "cell_type": "code",
   "execution_count": null,
   "metadata": {},
   "outputs": [],
   "source": []
  }
 ],
 "metadata": {
  "kernelspec": {
   "display_name": "Python 3",
   "language": "python",
   "name": "python3"
  },
  "language_info": {
   "codemirror_mode": {
    "name": "ipython",
    "version": 3
   },
   "file_extension": ".py",
   "mimetype": "text/x-python",
   "name": "python",
   "nbconvert_exporter": "python",
   "pygments_lexer": "ipython3",
   "version": "3.7.3"
  },
  "nbpresent": {
   "slides": {},
   "themes": {
    "default": "1142fcc4-f546-4424-a178-5da319831e1c",
    "theme": {}
   }
  },
  "toc": {
   "base_numbering": 1,
   "nav_menu": {
    "height": "12px",
    "width": "252px"
   },
   "number_sections": false,
   "sideBar": false,
   "skip_h1_title": false,
   "title_cell": "Table of Contents",
   "title_sidebar": "Contents",
   "toc_cell": false,
   "toc_position": {},
   "toc_section_display": "block",
   "toc_window_display": false
  }
 },
 "nbformat": 4,
 "nbformat_minor": 2
}
