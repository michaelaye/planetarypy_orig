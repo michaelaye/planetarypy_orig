{
 "cells": [
  {
   "cell_type": "markdown",
   "metadata": {},
   "source": [
    "# UVIS metadata"
   ]
  },
  {
   "cell_type": "code",
   "execution_count": 88,
   "metadata": {
    "ExecuteTime": {
     "end_time": "2018-02-06T01:23:27.423819Z",
     "start_time": "2018-02-06T01:23:27.294858Z"
    }
   },
   "outputs": [],
   "source": [
    "from planetpy.pdstools import indices\n",
    "from planetpy.utils import download\n",
    "from tqdm import tqdm\n",
    "\n",
    "class ProgressBar(tqdm):\n",
    "    \"\"\"Provides `update_to(n)` which uses `tqdm.update(delta_n)`.\"\"\"\n",
    "    def update_to(self, b=1, bsize=1, tsize=None):\n",
    "        \"\"\"\n",
    "        b  : int, optional\n",
    "            Number of blocks transferred so far [default: 1].\n",
    "        bsize  : int, optional\n",
    "            Size of each block (in tqdm units) [default: 1].\n",
    "        tsize  : int, optional\n",
    "            Total size (in tqdm units). If [default: None] remains unchanged.\n",
    "        \"\"\"\n",
    "        if tsize is not None:\n",
    "            self.total = tsize\n",
    "        self.update(b * bsize - self.n)  # will also set self.n = b * bsize\n",
    "\n",
    "META_URL = 'http://pds-rings.seti.org/metadata'\n",
    "\n",
    "\n",
    "class META:\n",
    "    INDICES = {'index': 'Cumulative product index of volume series',\n",
    "               'inventory': 'Cumulative list of observed bodies by product',\n",
    "               'moon_summary': 'Cumulative list of observed geometry on moons',\n",
    "               'ring_summary': 'Cumulative list of observed geometry on rings',\n",
    "               'saturn_summary': 'Cumulative list of observed geometry on Saturn'\n",
    "               }\n",
    "\n",
    "    def __init__(self, name=''):\n",
    "        if name == '':\n",
    "            print(\"Call me with one of the following index names:\")\n",
    "            for k,v in self.INDICES.items():\n",
    "                print(k,\": \", v)\n",
    "            raise ValueError(\"Provide index name.\")\n",
    "        else:\n",
    "            self._name = name\n",
    "        \n",
    "    @property\n",
    "    def name(self):\n",
    "        return self._name\n",
    "    \n",
    "    @property\n",
    "    def folder_url(self):\n",
    "        return META_URL + f'/CO{self.id}xxx/CO{self.id}999/'\n",
    "        \n",
    "    @property\n",
    "    def meta_filename(self):\n",
    "        return f'CO{self.id}999_{self.name}'\n",
    "            \n",
    "    @property\n",
    "    def label_url(self):\n",
    "        return self.folder_url + self.meta_filename + '.lbl'\n",
    "    \n",
    "    @property\n",
    "    def table_url(self):\n",
    "        return self.folder_url + self.meta_filename + '.tab'\n",
    "    \n",
    "    def download_table(self, local_folder='.'):\n",
    "        baseurl = self.folder_url + self.meta_filename\n",
    "        for ext in ['.lbl', '.tab']:\n",
    "            filename = self.meta_filename + ext\n",
    "            url = self.folder_url + filename\n",
    "            local_path = f\"{local_folder}/{filename}\"\n",
    "            print(\"Downloading\", local_path)\n",
    "            with ProgressBar(unit='B', unit_scale=True, miniters=1, desc=url) as t:\n",
    "                download(url, local_path, reporthook=t.update_to, data=None)\n",
    "    \n",
    "    @property\n",
    "    def label(self):\n",
    "        return indices.IndexLabel(self.meta_filename + '.lbl')\n",
    "\n",
    "    def read_table(self):\n",
    "        return self.label.read_index_data()\n",
    "\n",
    "    \n",
    "class UVIS_META(META):\n",
    "    id = 'UVIS_0'\n",
    "    INDICES = {'index': 'Cumulative product index of volume series',\n",
    "           'supplemental_index': 'Cumulative product index of volume series',\n",
    "           'moon_summary': 'Cumulative list of observed geometry on moons',\n",
    "           'ring_summary': 'Cumulative list of observed geometry on rings',\n",
    "           'saturn_summary': 'Cumulative list of observed geometry on Saturn'\n",
    "           }\n",
    "    \n",
    "class ISS_META(META):\n",
    "    id = 'ISS_2'\n",
    "\n",
    "class VIMS_META(META):\n",
    "    id = 'VIMS_0'"
   ]
  },
  {
   "cell_type": "code",
   "execution_count": 96,
   "metadata": {
    "ExecuteTime": {
     "end_time": "2018-02-06T01:30:48.317945Z",
     "start_time": "2018-02-06T01:30:48.301497Z"
    }
   },
   "outputs": [],
   "source": [
    "meta = UVIS_META('moon_summary')"
   ]
  },
  {
   "cell_type": "code",
   "execution_count": 98,
   "metadata": {
    "ExecuteTime": {
     "end_time": "2018-02-06T01:31:40.444680Z",
     "start_time": "2018-02-06T01:31:40.427604Z"
    }
   },
   "outputs": [
    {
     "data": {
      "text/plain": [
       "'http://pds-rings.seti.org/metadata/COUVIS_0xxx/COUVIS_0999/COUVIS_0999_moon_summary.lbl'"
      ]
     },
     "execution_count": 98,
     "metadata": {},
     "output_type": "execute_result"
    }
   ],
   "source": [
    "meta.label_url"
   ]
  },
  {
   "cell_type": "code",
   "execution_count": 101,
   "metadata": {
    "ExecuteTime": {
     "end_time": "2018-02-06T01:32:28.182962Z",
     "start_time": "2018-02-06T01:32:28.033554Z"
    },
    "scrolled": false
   },
   "outputs": [],
   "source": [
    "lbl = meta.label"
   ]
  },
  {
   "cell_type": "code",
   "execution_count": 103,
   "metadata": {
    "ExecuteTime": {
     "end_time": "2018-02-06T01:32:45.522034Z",
     "start_time": "2018-02-06T01:32:45.504717Z"
    }
   },
   "outputs": [
    {
     "data": {
      "text/plain": [
       "PosixPath('COUVIS_0099_moon_summary.tab')"
      ]
     },
     "execution_count": 103,
     "metadata": {},
     "output_type": "execute_result"
    }
   ],
   "source": [
    "lbl.index_path"
   ]
  },
  {
   "cell_type": "code",
   "execution_count": null,
   "metadata": {},
   "outputs": [],
   "source": []
  }
 ],
 "metadata": {
  "kernelspec": {
   "display_name": "Python [conda env:stable]",
   "language": "python",
   "name": "conda-env-stable-py"
  },
  "language_info": {
   "codemirror_mode": {
    "name": "ipython",
    "version": 3
   },
   "file_extension": ".py",
   "mimetype": "text/x-python",
   "name": "python",
   "nbconvert_exporter": "python",
   "pygments_lexer": "ipython3",
   "version": "3.6.4"
  },
  "toc": {
   "nav_menu": {
    "height": "12px",
    "width": "252px"
   },
   "number_sections": false,
   "sideBar": false,
   "skip_h1_title": false,
   "title_cell": "Table of Contents",
   "title_sidebar": "Contents",
   "toc_cell": false,
   "toc_position": {},
   "toc_section_display": "block",
   "toc_window_display": false
  }
 },
 "nbformat": 4,
 "nbformat_minor": 2
}
