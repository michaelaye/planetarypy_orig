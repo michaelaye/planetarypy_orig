{
 "cells": [
  {
   "cell_type": "markdown",
   "metadata": {
    "toc": "true"
   },
   "source": [
    "<h1>Table of Contents<span class=\"tocSkip\"></span></h1>\n",
    "<div class=\"toc\"><ul class=\"toc-item\"></ul></div>"
   ]
  },
  {
   "cell_type": "code",
   "execution_count": 25,
   "metadata": {
    "ExecuteTime": {
     "end_time": "2018-08-01T02:27:02.547830Z",
     "start_time": "2018-08-01T02:27:02.471213Z"
    }
   },
   "outputs": [],
   "source": [
    "from planetarypy import utils"
   ]
  },
  {
   "cell_type": "code",
   "execution_count": 26,
   "metadata": {
    "ExecuteTime": {
     "end_time": "2018-08-01T02:27:02.613057Z",
     "start_time": "2018-08-01T02:27:02.552358Z"
    }
   },
   "outputs": [
    {
     "data": {
      "text/plain": [
       "'2016-12-31T23:11:10.618000'"
      ]
     },
     "execution_count": 26,
     "metadata": {},
     "output_type": "execute_result"
    }
   ],
   "source": [
    "utils.nasa_datetime_to_iso('2016-366T23:11:10.618')"
   ]
  },
  {
   "cell_type": "code",
   "execution_count": 27,
   "metadata": {
    "ExecuteTime": {
     "end_time": "2018-08-01T02:27:02.670405Z",
     "start_time": "2018-08-01T02:27:02.616499Z"
    }
   },
   "outputs": [],
   "source": [
    "import spicer"
   ]
  },
  {
   "cell_type": "code",
   "execution_count": 28,
   "metadata": {
    "ExecuteTime": {
     "end_time": "2018-08-01T02:27:02.740008Z",
     "start_time": "2018-08-01T02:27:02.683413Z"
    }
   },
   "outputs": [],
   "source": [
    "from numpy.linalg import norm\n",
    "\n",
    "from astropy import units as u"
   ]
  },
  {
   "cell_type": "code",
   "execution_count": 29,
   "metadata": {
    "ExecuteTime": {
     "end_time": "2018-08-01T02:27:02.792261Z",
     "start_time": "2018-08-01T02:27:02.743231Z"
    }
   },
   "outputs": [],
   "source": [
    "import spiceypy as spice"
   ]
  },
  {
   "cell_type": "code",
   "execution_count": 30,
   "metadata": {
    "ExecuteTime": {
     "end_time": "2018-08-01T02:27:02.853248Z",
     "start_time": "2018-08-01T02:27:02.796520Z"
    }
   },
   "outputs": [
    {
     "data": {
      "text/plain": [
       "PosixPath('/Users/klay6683/Dropbox/src/spicer/spicer/kernels')"
      ]
     },
     "execution_count": 30,
     "metadata": {},
     "output_type": "execute_result"
    }
   ],
   "source": [
    "spicer.kernels.KERNELROOT"
   ]
  },
  {
   "cell_type": "code",
   "execution_count": 31,
   "metadata": {
    "ExecuteTime": {
     "end_time": "2018-08-01T02:27:02.911989Z",
     "start_time": "2018-08-01T02:27:02.855650Z"
    }
   },
   "outputs": [
    {
     "name": "stdout",
     "output_type": "stream",
     "text": [
      "1.5228368785874833\n",
      "[-2.26013976e+09  2.63912303e+09 -2.82628792e+09]\n"
     ]
    },
    {
     "data": {
      "text/latex": [
       "$29.940015 \\; \\mathrm{AU}$"
      ],
      "text/plain": [
       "<Quantity 29.94001539 AU>"
      ]
     },
     "execution_count": 31,
     "metadata": {},
     "output_type": "execute_result"
    }
   ],
   "source": [
    "triton = spicer.TritonSpicer(obs='EARTH')\n",
    "\n",
    "spice.furnsh(\"/Users/klay6683/Dropbox/SternchenAndMe/SPICE_kernels/spk/nep081.bsp\")\n",
    "\n",
    "print (triton.solar_constant)\n",
    "\n",
    "print (triton.center_to_sun)\n",
    "\n",
    "dist = norm(triton.center_to_sun)* u.km\n",
    "\n",
    "dist.to(u.au)"
   ]
  },
  {
   "cell_type": "code",
   "execution_count": 32,
   "metadata": {
    "ExecuteTime": {
     "end_time": "2018-08-01T02:27:02.971369Z",
     "start_time": "2018-08-01T02:27:02.918036Z"
    }
   },
   "outputs": [
    {
     "data": {
      "text/latex": [
       "$5 \\; \\mathrm{mas}$"
      ],
      "text/plain": [
       "<Quantity 5. mas>"
      ]
     },
     "execution_count": 32,
     "metadata": {},
     "output_type": "execute_result"
    }
   ],
   "source": [
    "ang = 5 * u.mas\n",
    "ang"
   ]
  },
  {
   "cell_type": "code",
   "execution_count": 52,
   "metadata": {
    "ExecuteTime": {
     "end_time": "2018-08-01T02:31:15.198493Z",
     "start_time": "2018-08-01T02:31:15.155558Z"
    }
   },
   "outputs": [],
   "source": [
    "ang = 0.017 * u.arcsec"
   ]
  },
  {
   "cell_type": "code",
   "execution_count": 53,
   "metadata": {
    "ExecuteTime": {
     "end_time": "2018-08-01T02:31:33.775614Z",
     "start_time": "2018-08-01T02:31:33.735713Z"
    }
   },
   "outputs": [],
   "source": [
    "angval = ang.to(u.rad).value"
   ]
  },
  {
   "cell_type": "code",
   "execution_count": 54,
   "metadata": {
    "ExecuteTime": {
     "end_time": "2018-08-01T02:31:34.192032Z",
     "start_time": "2018-08-01T02:31:34.155941Z"
    }
   },
   "outputs": [
    {
     "data": {
      "text/latex": [
       "$414.42827 \\; \\mathrm{km}$"
      ],
      "text/plain": [
       "<Quantity 414.42827194 km>"
      ]
     },
     "execution_count": 54,
     "metadata": {},
     "output_type": "execute_result"
    }
   ],
   "source": [
    "angval * dist"
   ]
  },
  {
   "cell_type": "code",
   "execution_count": 35,
   "metadata": {
    "ExecuteTime": {
     "end_time": "2018-08-01T02:27:03.139076Z",
     "start_time": "2018-08-01T02:27:03.088531Z"
    }
   },
   "outputs": [],
   "source": [
    "def calc_resolution_element(ang, dist):\n",
    "    return np.sin(ang.to(u.rad)/2)*2 * dist"
   ]
  },
  {
   "cell_type": "code",
   "execution_count": 36,
   "metadata": {
    "ExecuteTime": {
     "end_time": "2018-08-01T02:27:03.185031Z",
     "start_time": "2018-08-01T02:27:03.142218Z"
    }
   },
   "outputs": [],
   "source": [
    "def calc_pixels_imaged(spicer, res_element):\n",
    "    return spicer.radii[0]*u.km/res_element"
   ]
  },
  {
   "cell_type": "code",
   "execution_count": 37,
   "metadata": {
    "ExecuteTime": {
     "end_time": "2018-08-01T02:27:03.259510Z",
     "start_time": "2018-08-01T02:27:03.188712Z"
    }
   },
   "outputs": [
    {
     "data": {
      "text/latex": [
       "$108.57312 \\; \\mathrm{km}$"
      ],
      "text/plain": [
       "<Quantity 108.57311609 km>"
      ]
     },
     "execution_count": 37,
     "metadata": {},
     "output_type": "execute_result"
    }
   ],
   "source": [
    "res_elem = calc_resolution_element(ang, dist)\n",
    "res_elem"
   ]
  },
  {
   "cell_type": "code",
   "execution_count": 38,
   "metadata": {
    "ExecuteTime": {
     "end_time": "2018-08-01T02:27:03.357880Z",
     "start_time": "2018-08-01T02:27:03.275685Z"
    }
   },
   "outputs": [
    {
     "data": {
      "text/latex": [
       "$12.457964 \\; \\mathrm{}$"
      ],
      "text/plain": [
       "<Quantity 12.45796426>"
      ]
     },
     "execution_count": 38,
     "metadata": {},
     "output_type": "execute_result"
    }
   ],
   "source": [
    "calc_pixels_imaged(triton, res_elem)"
   ]
  },
  {
   "cell_type": "code",
   "execution_count": null,
   "metadata": {},
   "outputs": [],
   "source": []
  },
  {
   "cell_type": "code",
   "execution_count": 39,
   "metadata": {
    "ExecuteTime": {
     "end_time": "2018-08-01T02:27:03.425656Z",
     "start_time": "2018-08-01T02:27:03.360160Z"
    }
   },
   "outputs": [
    {
     "name": "stdout",
     "output_type": "stream",
     "text": [
      "13.473512983329595\n",
      "[8.46502522e+08 1.05589126e+09 6.60244847e+08]\n"
     ]
    },
    {
     "data": {
      "text/latex": [
       "$10.065568 \\; \\mathrm{AU}$"
      ],
      "text/plain": [
       "<Quantity 10.06556805 AU>"
      ]
     },
     "execution_count": 39,
     "metadata": {},
     "output_type": "execute_result"
    }
   ],
   "source": [
    "enc = spicer.EnceladusSpicer(obs='EARTH')\n",
    "\n",
    "spice.furnsh(\"/Users/klay6683/Dropbox/SternchenAndMe/SPICE_kernels/spk/sat375.bsp\")\n",
    "\n",
    "print (enc.solar_constant)\n",
    "\n",
    "print (enc.center_to_sun)\n",
    "\n",
    "dist = norm(enc.center_to_sun)* u.km\n",
    "\n",
    "dist.to(u.au)"
   ]
  },
  {
   "cell_type": "code",
   "execution_count": 40,
   "metadata": {
    "ExecuteTime": {
     "end_time": "2018-08-01T02:27:03.494508Z",
     "start_time": "2018-08-01T02:27:03.435164Z"
    }
   },
   "outputs": [
    {
     "data": {
      "text/latex": [
       "$36.50132 \\; \\mathrm{km}$"
      ],
      "text/plain": [
       "<Quantity 36.50132021 km>"
      ]
     },
     "execution_count": 40,
     "metadata": {},
     "output_type": "execute_result"
    }
   ],
   "source": [
    "res_elem = calc_resolution_element(ang, dist)\n",
    "res_elem"
   ]
  },
  {
   "cell_type": "code",
   "execution_count": 41,
   "metadata": {
    "ExecuteTime": {
     "end_time": "2018-08-01T02:27:03.557376Z",
     "start_time": "2018-08-01T02:27:03.498587Z"
    }
   },
   "outputs": [
    {
     "data": {
      "text/latex": [
       "$7.0298827 \\; \\mathrm{}$"
      ],
      "text/plain": [
       "<Quantity 7.02988272>"
      ]
     },
     "execution_count": 41,
     "metadata": {},
     "output_type": "execute_result"
    }
   ],
   "source": [
    "calc_pixels_imaged(enc, res_elem)"
   ]
  },
  {
   "cell_type": "code",
   "execution_count": 46,
   "metadata": {
    "ExecuteTime": {
     "end_time": "2018-08-01T02:27:18.565533Z",
     "start_time": "2018-08-01T02:27:18.508518Z"
    }
   },
   "outputs": [
    {
     "name": "stdout",
     "output_type": "stream",
     "text": [
      "1.2082507534084304\n",
      "[2.86216405e+09 3.86499536e+08 4.11618136e+09]\n"
     ]
    },
    {
     "data": {
      "text/latex": [
       "$33.61245 \\; \\mathrm{AU}$"
      ],
      "text/plain": [
       "<Quantity 33.61245043 AU>"
      ]
     },
     "execution_count": 46,
     "metadata": {},
     "output_type": "execute_result"
    }
   ],
   "source": [
    "pluto = spicer.PlutoSpicer(obs='EARTH')\n",
    "\n",
    "# spice.furnsh(\"/Users/klay6683/Dropbox/SternchenAndMe/SPICE_kernels/spk/de432s.bsp\")\n",
    "spice.furnsh(\"/Users/klay6683/Dropbox/SternchenAndMe/SPICE_kernels/spk/plu055.bsp\")\n",
    "\n",
    "print (pluto.solar_constant)\n",
    "\n",
    "print (pluto.center_to_sun)\n",
    "\n",
    "dist = norm(pluto.center_to_sun)* u.km\n",
    "\n",
    "dist.to(u.au)"
   ]
  },
  {
   "cell_type": "code",
   "execution_count": 48,
   "metadata": {
    "ExecuteTime": {
     "end_time": "2018-08-01T02:27:56.831930Z",
     "start_time": "2018-08-01T02:27:56.789512Z"
    }
   },
   "outputs": [
    {
     "data": {
      "text/latex": [
       "$121.89067 \\; \\mathrm{km}$"
      ],
      "text/plain": [
       "<Quantity 121.89066822 km>"
      ]
     },
     "execution_count": 48,
     "metadata": {},
     "output_type": "execute_result"
    }
   ],
   "source": [
    "res_elem = calc_resolution_element(ang, dist)\n",
    "res_elem"
   ]
  },
  {
   "cell_type": "code",
   "execution_count": 49,
   "metadata": {
    "ExecuteTime": {
     "end_time": "2018-08-01T02:28:12.526324Z",
     "start_time": "2018-08-01T02:28:12.487327Z"
    }
   },
   "outputs": [
    {
     "data": {
      "text/latex": [
       "$9.8038678 \\; \\mathrm{}$"
      ],
      "text/plain": [
       "<Quantity 9.80386782>"
      ]
     },
     "execution_count": 49,
     "metadata": {},
     "output_type": "execute_result"
    }
   ],
   "source": [
    "calc_pixels_imaged(pluto, res_elem)"
   ]
  },
  {
   "cell_type": "code",
   "execution_count": 50,
   "metadata": {
    "ExecuteTime": {
     "end_time": "2018-08-01T02:28:30.283036Z",
     "start_time": "2018-08-01T02:28:30.242565Z"
    }
   },
   "outputs": [
    {
     "data": {
      "text/plain": [
       "Radii(a=1195.0, b=1195.0, c=1195.0)"
      ]
     },
     "execution_count": 50,
     "metadata": {},
     "output_type": "execute_result"
    }
   ],
   "source": [
    "pluto.radii"
   ]
  },
  {
   "cell_type": "code",
   "execution_count": 51,
   "metadata": {
    "ExecuteTime": {
     "end_time": "2018-08-01T02:28:34.125350Z",
     "start_time": "2018-08-01T02:28:34.073986Z"
    }
   },
   "outputs": [
    {
     "data": {
      "text/plain": [
       "Radii(a=1352.6, b=1352.6, c=1352.6)"
      ]
     },
     "execution_count": 51,
     "metadata": {},
     "output_type": "execute_result"
    }
   ],
   "source": [
    "triton.radii"
   ]
  },
  {
   "cell_type": "code",
   "execution_count": null,
   "metadata": {},
   "outputs": [],
   "source": []
  }
 ],
 "metadata": {
  "kernelspec": {
   "display_name": "Python [default]",
   "language": "python",
   "name": "python3"
  },
  "language_info": {
   "codemirror_mode": {
    "name": "ipython",
    "version": 3
   },
   "file_extension": ".py",
   "mimetype": "text/x-python",
   "name": "python",
   "nbconvert_exporter": "python",
   "pygments_lexer": "ipython3",
   "version": "3.6.6"
  },
  "toc": {
   "base_numbering": 1,
   "nav_menu": {},
   "number_sections": true,
   "sideBar": true,
   "skip_h1_title": false,
   "title_cell": "Table of Contents",
   "title_sidebar": "Contents",
   "toc_cell": true,
   "toc_position": {},
   "toc_section_display": "block",
   "toc_window_display": false
  },
  "varInspector": {
   "cols": {
    "lenName": 16,
    "lenType": 16,
    "lenVar": 40
   },
   "kernels_config": {
    "python": {
     "delete_cmd_postfix": "",
     "delete_cmd_prefix": "del ",
     "library": "var_list.py",
     "varRefreshCmd": "print(var_dic_list())"
    },
    "r": {
     "delete_cmd_postfix": ") ",
     "delete_cmd_prefix": "rm(",
     "library": "var_list.r",
     "varRefreshCmd": "cat(var_dic_list()) "
    }
   },
   "types_to_exclude": [
    "module",
    "function",
    "builtin_function_or_method",
    "instance",
    "_Feature"
   ],
   "window_display": false
  }
 },
 "nbformat": 4,
 "nbformat_minor": 2
}
