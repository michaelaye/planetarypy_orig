{
 "cells": [
  {
   "cell_type": "markdown",
   "metadata": {
    "toc": "true"
   },
   "source": [
    "<h1>Table of Contents<span class=\"tocSkip\"></span></h1>\n",
    "<div class=\"toc\"><ul class=\"toc-item\"></ul></div>"
   ]
  },
  {
   "cell_type": "code",
   "execution_count": 1,
   "metadata": {
    "ExecuteTime": {
     "end_time": "2018-05-23T05:20:28.363535Z",
     "start_time": "2018-05-23T05:20:28.324884Z"
    }
   },
   "outputs": [],
   "source": [
    "from planetarypy.pdstools.indices import IndexDB"
   ]
  },
  {
   "cell_type": "code",
   "execution_count": 2,
   "metadata": {
    "ExecuteTime": {
     "end_time": "2018-05-23T16:33:16.605738Z",
     "start_time": "2018-05-23T16:33:15.686393Z"
    }
   },
   "outputs": [],
   "source": [
    "db = IndexDB()"
   ]
  },
  {
   "cell_type": "code",
   "execution_count": 3,
   "metadata": {
    "ExecuteTime": {
     "end_time": "2018-05-23T05:33:15.014575Z",
     "start_time": "2018-05-23T05:33:14.822399Z"
    }
   },
   "outputs": [
    {
     "name": "stdout",
     "output_type": "stream",
     "text": [
      "[cassini.iss.index]\n",
      "url = \"https://pds-rings.seti.org/holdings/metadata/COISS_2xxx/COISS_2999/COISS_2999_index.lbl\"\n",
      "last-modified = \"\"\n",
      "\n",
      "[cassini.iss.inventory]\n",
      "url = \"https://pds-rings.seti.org/holdings/metadata/COISS_2xxx/COISS_2999/COISS_2999_inventory.lbl\"\n",
      "last-modified = \"\"\n",
      "\n",
      "[cassini.iss.moon_summary]\n",
      "url = \"https://pds-rings.seti.org/holdings/metadata/COISS_2xxx/COISS_2999/COISS_2999_moon_summary.lbl\"\n",
      "last-modified = \"\"\n",
      "\n",
      "[cassini.iss.ring_summary]\n",
      "url = \"https://pds-rings.seti.org/holdings/metadata/COISS_2xxx/COISS_2999/COISS_2999_ring_summary.lbl\"\n",
      "last-modified = \"\"\n",
      "\n",
      "[cassini.iss.saturn_summary]\n",
      "url = \"https://pds-rings.seti.org/holdings/metadata/COISS_2xxx/COISS_2999/COISS_2999_saturn_summary.lbl\"\n",
      "last-modified = \"\"\n",
      "\n",
      "[cassini.uvis.index]\n",
      "url = \"https://pds-rings.seti.org/holdings/metadata/COUVIS_0xxx/COUVIS_0999/COUVIS_0999_index.lbl\"\n",
      "last-modified = \"\"\n",
      "\n",
      "[cassini.uvis.moon_summary]\n",
      "url = \"https://pds-rings.seti.org/holdings/metadata/COUVIS_0xxx/COUVIS_0999/COUVIS_0999_moon_summary.lbl\"\n",
      "last-modified = \"\"\n",
      "\n",
      "[cassini.uvis.ring_summary]\n",
      "url = \"https://pds-rings.seti.org/holdings/metadata/COUVIS_0xxx/COUVIS_0999/COUVIS_0999_ring_summary.lbl\"\n",
      "last-modified = \"\"\n",
      "\n",
      "[cassini.uvis.saturn_summary]\n",
      "url = \"https://pds-rings.seti.org/holdings/metadata/COUVIS_0xxx/COUVIS_0999/COUVIS_0999_saturn_summary.lbl\"\n",
      "last-modified = \"\"\n",
      "\n",
      "[cassini.uvis.supplemental_index]\n",
      "url = \"https://pds-rings.seti.org/holdings/metadata/COUVIS_0xxx/COUVIS_0999/COUVIS_0999_supplemental_index.lbl\"\n",
      "last-modified = \"\"\n",
      "\n",
      "[mro.hirise.dtm]\n",
      "url = \"https://hirise-pds.lpl.arizona.edu/PDS/INDEX/DTMCUMINDEX.LBL\"\n",
      "last-modified = \"\"\n",
      "\n",
      "[mro.hirise.edr]\n",
      "url = \"https://hirise-pds.lpl.arizona.edu/PDS/INDEX/EDRCUMINDEX.LBL\"\n",
      "last-modified = \"\"\n",
      "\n",
      "[mro.hirise.rdr]\n",
      "url = \"https://hirise-pds.lpl.arizona.edu/PDS/INDEX/RDRCUMINDEX.LBL\"\n",
      "last-modified = \"\"\n",
      "\n",
      "[lro.diviner.edr1]\n",
      "url = \"https://pds-geosciences.wustl.edu/lro/lro-l-dlre-2-edr-v1/lrodlr_0001/index/index.lbl\"\n",
      "last-modified = \"\"\n",
      "\n",
      "[lro.diviner.edr2]\n",
      "url = \"https://pds-geosciences.wustl.edu/lro/lro-l-dlre-2-edr-v1/lrodlr_0002/index/index.lbl\"\n",
      "last-modified = \"\"\n",
      "\n",
      "[lro.diviner.rdr1]\n",
      "url = \"https://pds-geosciences.wustl.edu/lro/lro-l-dlre-4-rdr-v1/lrodlr_1001/index/rdrindex.lbl\"\n",
      "last-modified = \"\"\n",
      "\n",
      "[lro.diviner.rdr2]\n",
      "url = \"https://pds-geosciences.wustl.edu/lro/lro-l-dlre-4-rdr-v1/lrodlr_1002/index/rdrindex.lbl\"\n",
      "last-modified = \"\"\n",
      "\n",
      "[lro.lola.edr]\n",
      "url = \"http://pds-geosciences.wustl.edu/lro/lro-l-lola-2-edr-v1/lrolol_0xxx/index/edrindex.lbl\"\n",
      "last-modified = \"\"\n",
      "\n",
      "[lro.lola.rdr]\n",
      "url = \"http://pds-geosciences.wustl.edu/lro/lro-l-lola-3-rdr-v1/lrolol_1xxx/index/rdrindex.lbl\"\n",
      "last-modified = \"\"\n",
      "\n",
      "Use indices.download('mission.instrument.index') to download in index file.\n",
      "For example: indices.download('cassini.uvis.moon_summary'\n"
     ]
    }
   ],
   "source": [
    "db.list_indices()"
   ]
  },
  {
   "cell_type": "code",
   "execution_count": 4,
   "metadata": {},
   "outputs": [
    {
     "ename": "TypeError",
     "evalue": "__init__() got an unexpected keyword argument 'last-modified'",
     "output_type": "error",
     "traceback": [
      "\u001b[0;31m---------------------------------------------------------------------------\u001b[0m",
      "\u001b[0;31mTypeError\u001b[0m                                 Traceback (most recent call last)",
      "\u001b[0;32m<ipython-input-4-c241ef5e355c>\u001b[0m in \u001b[0;36m<module>\u001b[0;34m\u001b[0m\n\u001b[0;32m----> 1\u001b[0;31m \u001b[0mindex\u001b[0m \u001b[0;34m=\u001b[0m \u001b[0mdb\u001b[0m\u001b[0;34m.\u001b[0m\u001b[0mget_by_path\u001b[0m\u001b[0;34m(\u001b[0m\u001b[0;34m'mro.hirise.rdr'\u001b[0m\u001b[0;34m)\u001b[0m\u001b[0;34m\u001b[0m\u001b[0;34m\u001b[0m\u001b[0m\n\u001b[0m",
      "\u001b[0;32m~/src/planetarypy/planetarypy/pdstools/indices.py\u001b[0m in \u001b[0;36mget_by_path\u001b[0;34m(self, nested_key)\u001b[0m\n\u001b[1;32m    229\u001b[0m         \u001b[0;32mfor\u001b[0m \u001b[0mk\u001b[0m \u001b[0;32min\u001b[0m \u001b[0mmapList\u001b[0m\u001b[0;34m:\u001b[0m\u001b[0;34m\u001b[0m\u001b[0;34m\u001b[0m\u001b[0m\n\u001b[1;32m    230\u001b[0m             \u001b[0md\u001b[0m \u001b[0;34m=\u001b[0m \u001b[0md\u001b[0m\u001b[0;34m[\u001b[0m\u001b[0mk\u001b[0m\u001b[0;34m]\u001b[0m\u001b[0;34m\u001b[0m\u001b[0;34m\u001b[0m\u001b[0m\n\u001b[0;32m--> 231\u001b[0;31m         \u001b[0;32mreturn\u001b[0m \u001b[0mIndex\u001b[0m\u001b[0;34m(\u001b[0m\u001b[0mnested_key\u001b[0m\u001b[0;34m,\u001b[0m \u001b[0;34m**\u001b[0m\u001b[0md\u001b[0m\u001b[0;34m)\u001b[0m\u001b[0;34m\u001b[0m\u001b[0;34m\u001b[0m\u001b[0m\n\u001b[0m\u001b[1;32m    232\u001b[0m \u001b[0;34m\u001b[0m\u001b[0m\n\u001b[1;32m    233\u001b[0m     \u001b[0;32mdef\u001b[0m \u001b[0mget\u001b[0m\u001b[0;34m(\u001b[0m\u001b[0mself\u001b[0m\u001b[0;34m,\u001b[0m \u001b[0mnested_key\u001b[0m\u001b[0;34m)\u001b[0m\u001b[0;34m:\u001b[0m\u001b[0;34m\u001b[0m\u001b[0;34m\u001b[0m\u001b[0m\n",
      "\u001b[0;31mTypeError\u001b[0m: __init__() got an unexpected keyword argument 'last-modified'"
     ]
    }
   ],
   "source": [
    "index = db.get_by_path('mro.hirise.rdr')"
   ]
  },
  {
   "cell_type": "code",
   "execution_count": 13,
   "metadata": {},
   "outputs": [
    {
     "data": {
      "text/plain": [
       "True"
      ]
     },
     "execution_count": 13,
     "metadata": {},
     "output_type": "execute_result"
    }
   ],
   "source": [
    "index.needs_download"
   ]
  },
  {
   "cell_type": "code",
   "execution_count": 14,
   "metadata": {},
   "outputs": [
    {
     "data": {
      "application/vnd.jupyter.widget-view+json": {
       "model_id": "83038728112649959acacd96f1004ae5",
       "version_major": 2,
       "version_minor": 0
      },
      "text/plain": [
       "HBox(children=(IntProgress(value=1, bar_style='info', description='RDRCUMINDEX.LBL', max=1, style=ProgressStyl…"
      ]
     },
     "metadata": {},
     "output_type": "display_data"
    },
    {
     "name": "stdout",
     "output_type": "stream",
     "text": [
      "\n"
     ]
    },
    {
     "data": {
      "application/vnd.jupyter.widget-view+json": {
       "model_id": "cd6e32c2e5684a9abf8631eaffac59d8",
       "version_major": 2,
       "version_minor": 0
      },
      "text/plain": [
       "HBox(children=(IntProgress(value=1, bar_style='info', description='RDRCUMINDEX.TAB', max=1, style=ProgressStyl…"
      ]
     },
     "metadata": {},
     "output_type": "display_data"
    },
    {
     "name": "stdout",
     "output_type": "stream",
     "text": [
      "\n",
      "Converting times for column OBSERVATION_START_TIME.\n",
      "Converting times for column START_TIME.\n",
      "Converting times for column STOP_TIME.\n",
      "Done.\n",
      "Downloaded and converted to pandas HDF: /Users/klay6683/Dropbox/data/planetarypy/indices/mro/hirise/RDRCUMINDEX.hdf\n"
     ]
    }
   ],
   "source": [
    "index.download()"
   ]
  },
  {
   "cell_type": "code",
   "execution_count": 9,
   "metadata": {},
   "outputs": [
    {
     "data": {
      "text/plain": [
       "PosixPath('/Users/klay6683/Dropbox/data/planetarypy/indices/mro/hirise')"
      ]
     },
     "execution_count": 9,
     "metadata": {},
     "output_type": "execute_result"
    }
   ],
   "source": [
    "index.local_dir"
   ]
  },
  {
   "cell_type": "code",
   "execution_count": 10,
   "metadata": {},
   "outputs": [
    {
     "data": {
      "text/plain": [
       "datetime.datetime(2019, 11, 14, 17, 21, 48)"
      ]
     },
     "execution_count": 10,
     "metadata": {},
     "output_type": "execute_result"
    }
   ],
   "source": [
    "index.new_timestamp"
   ]
  },
  {
   "cell_type": "code",
   "execution_count": null,
   "metadata": {},
   "outputs": [],
   "source": []
  }
 ],
 "metadata": {
  "kernelspec": {
   "display_name": "Python 3",
   "language": "python",
   "name": "python3"
  },
  "language_info": {
   "codemirror_mode": {
    "name": "ipython",
    "version": 3
   },
   "file_extension": ".py",
   "mimetype": "text/x-python",
   "name": "python",
   "nbconvert_exporter": "python",
   "pygments_lexer": "ipython3",
   "version": "3.7.6"
  },
  "toc": {
   "base_numbering": 1,
   "nav_menu": {
    "height": "12px",
    "width": "252px"
   },
   "number_sections": false,
   "sideBar": false,
   "skip_h1_title": false,
   "title_cell": "Table of Contents",
   "title_sidebar": "Contents",
   "toc_cell": true,
   "toc_position": {},
   "toc_section_display": "block",
   "toc_window_display": false
  },
  "widgets": {
   "application/vnd.jupyter.widget-state+json": {
    "state": {
     "102d851c53604ca59e58863dcfa25215": {
      "model_module": "@jupyter-widgets/controls",
      "model_module_version": "1.5.0",
      "model_name": "IntProgressModel",
      "state": {
       "bar_style": "success",
       "description": "EDRCUMINDEX.TAB: ",
       "layout": "IPY_MODEL_2bdff1f2850149ddb4a357b05b2ced50",
       "max": 1,
       "style": "IPY_MODEL_c3554f8e832349b48c285f5c43178514",
       "value": 1
      }
     },
     "2179db06346442ecaea52c28e32a4880": {
      "model_module": "@jupyter-widgets/base",
      "model_module_version": "1.2.0",
      "model_name": "LayoutModel",
      "state": {}
     },
     "27ac8491cdf84d0d9c6b60d0980cc3ab": {
      "model_module": "@jupyter-widgets/controls",
      "model_module_version": "1.5.0",
      "model_name": "DescriptionStyleModel",
      "state": {
       "description_width": ""
      }
     },
     "2bdff1f2850149ddb4a357b05b2ced50": {
      "model_module": "@jupyter-widgets/base",
      "model_module_version": "1.2.0",
      "model_name": "LayoutModel",
      "state": {}
     },
     "361c2c70830c4102b0181d46de30da9f": {
      "model_module": "@jupyter-widgets/controls",
      "model_module_version": "1.5.0",
      "model_name": "HTMLModel",
      "state": {
       "layout": "IPY_MODEL_be5df87c6ff1478ebdb3983ef08ad7f6",
       "style": "IPY_MODEL_f21933517d704ab78041e3c8013602b7",
       "value": " 1.61G/? [05:38&lt;00:00, 4.74MB/s]"
      }
     },
     "5211199ebf264d40b6a058629615c169": {
      "model_module": "@jupyter-widgets/controls",
      "model_module_version": "1.5.0",
      "model_name": "IntProgressModel",
      "state": {
       "bar_style": "success",
       "description": "RDRCUMINDEX.LBL: ",
       "layout": "IPY_MODEL_8e924e96c36b4762b55ebe6e0186cf55",
       "max": 1,
       "style": "IPY_MODEL_ab99d8fbb2374393b2f1a14327250ea1",
       "value": 1
      }
     },
     "5665874f22964438bb25625f524347ab": {
      "model_module": "@jupyter-widgets/controls",
      "model_module_version": "1.5.0",
      "model_name": "IntProgressModel",
      "state": {
       "bar_style": "success",
       "description": "RDRCUMINDEX.TAB: ",
       "layout": "IPY_MODEL_b9b19de15c79424a92f6770802d5a92d",
       "max": 1,
       "style": "IPY_MODEL_95e234d031e449929d36d4511becca02",
       "value": 1
      }
     },
     "57a41ae50c31426e9354bee5a8bb1846": {
      "model_module": "@jupyter-widgets/controls",
      "model_module_version": "1.5.0",
      "model_name": "HTMLModel",
      "state": {
       "layout": "IPY_MODEL_e723475c79324932a3e9d8514e2dc657",
       "style": "IPY_MODEL_b7c62853e4b4458a87317867ae4aedfb",
       "value": " 16.4k/? [00:01&lt;00:00, 14.4kB/s]"
      }
     },
     "594470f6c1f34b7da930861c790c1337": {
      "model_module": "@jupyter-widgets/controls",
      "model_module_version": "1.5.0",
      "model_name": "DescriptionStyleModel",
      "state": {
       "description_width": ""
      }
     },
     "5c3d7f11bace4982b8b1a3f46e996e64": {
      "model_module": "@jupyter-widgets/base",
      "model_module_version": "1.2.0",
      "model_name": "LayoutModel",
      "state": {}
     },
     "79344b42ad454f9d843668257c971f22": {
      "model_module": "@jupyter-widgets/controls",
      "model_module_version": "1.5.0",
      "model_name": "HBoxModel",
      "state": {
       "children": [
        "IPY_MODEL_102d851c53604ca59e58863dcfa25215",
        "IPY_MODEL_361c2c70830c4102b0181d46de30da9f"
       ],
       "layout": "IPY_MODEL_e16ed547a62448ca90e64e215ca6305b"
      }
     },
     "82266f0eef3241c382eaf2ca09751133": {
      "model_module": "@jupyter-widgets/base",
      "model_module_version": "1.2.0",
      "model_name": "LayoutModel",
      "state": {}
     },
     "83038728112649959acacd96f1004ae5": {
      "model_module": "@jupyter-widgets/controls",
      "model_module_version": "1.5.0",
      "model_name": "HBoxModel",
      "state": {
       "children": [
        "IPY_MODEL_5211199ebf264d40b6a058629615c169",
        "IPY_MODEL_57a41ae50c31426e9354bee5a8bb1846"
       ],
       "layout": "IPY_MODEL_2179db06346442ecaea52c28e32a4880"
      }
     },
     "8e924e96c36b4762b55ebe6e0186cf55": {
      "model_module": "@jupyter-widgets/base",
      "model_module_version": "1.2.0",
      "model_name": "LayoutModel",
      "state": {}
     },
     "907f99794c594c3aa88ba1c762a68ccc": {
      "model_module": "@jupyter-widgets/controls",
      "model_module_version": "1.5.0",
      "model_name": "ProgressStyleModel",
      "state": {
       "description_width": "initial"
      }
     },
     "95e234d031e449929d36d4511becca02": {
      "model_module": "@jupyter-widgets/controls",
      "model_module_version": "1.5.0",
      "model_name": "ProgressStyleModel",
      "state": {
       "description_width": "initial"
      }
     },
     "997dc0e9b4ba452fa3487b9894bc078b": {
      "model_module": "@jupyter-widgets/base",
      "model_module_version": "1.2.0",
      "model_name": "LayoutModel",
      "state": {}
     },
     "a6efbcee79004d97a22413bae5f9d118": {
      "model_module": "@jupyter-widgets/base",
      "model_module_version": "1.2.0",
      "model_name": "LayoutModel",
      "state": {}
     },
     "ab99d8fbb2374393b2f1a14327250ea1": {
      "model_module": "@jupyter-widgets/controls",
      "model_module_version": "1.5.0",
      "model_name": "ProgressStyleModel",
      "state": {
       "description_width": "initial"
      }
     },
     "b4a05a71c57d4fc0ba1af6245c0335a0": {
      "model_module": "@jupyter-widgets/controls",
      "model_module_version": "1.5.0",
      "model_name": "HTMLModel",
      "state": {
       "layout": "IPY_MODEL_82266f0eef3241c382eaf2ca09751133",
       "style": "IPY_MODEL_27ac8491cdf84d0d9c6b60d0980cc3ab",
       "value": " 101M/? [00:21&lt;00:00, 4.65MB/s]"
      }
     },
     "b68fbb02f2d84e3c90124eff50d6544c": {
      "model_module": "@jupyter-widgets/controls",
      "model_module_version": "1.5.0",
      "model_name": "HBoxModel",
      "state": {
       "children": [
        "IPY_MODEL_fed1c16f963e4344878af322818928da",
        "IPY_MODEL_cf040072f1f04d91b5e570ff165ffc20"
       ],
       "layout": "IPY_MODEL_997dc0e9b4ba452fa3487b9894bc078b"
      }
     },
     "b7c62853e4b4458a87317867ae4aedfb": {
      "model_module": "@jupyter-widgets/controls",
      "model_module_version": "1.5.0",
      "model_name": "DescriptionStyleModel",
      "state": {
       "description_width": ""
      }
     },
     "b9b19de15c79424a92f6770802d5a92d": {
      "model_module": "@jupyter-widgets/base",
      "model_module_version": "1.2.0",
      "model_name": "LayoutModel",
      "state": {}
     },
     "ba82e6befb6b4feaacc2bd996e96d4f8": {
      "model_module": "@jupyter-widgets/base",
      "model_module_version": "1.2.0",
      "model_name": "LayoutModel",
      "state": {}
     },
     "be5df87c6ff1478ebdb3983ef08ad7f6": {
      "model_module": "@jupyter-widgets/base",
      "model_module_version": "1.2.0",
      "model_name": "LayoutModel",
      "state": {}
     },
     "c3554f8e832349b48c285f5c43178514": {
      "model_module": "@jupyter-widgets/controls",
      "model_module_version": "1.5.0",
      "model_name": "ProgressStyleModel",
      "state": {
       "description_width": "initial"
      }
     },
     "cd6e32c2e5684a9abf8631eaffac59d8": {
      "model_module": "@jupyter-widgets/controls",
      "model_module_version": "1.5.0",
      "model_name": "HBoxModel",
      "state": {
       "children": [
        "IPY_MODEL_5665874f22964438bb25625f524347ab",
        "IPY_MODEL_b4a05a71c57d4fc0ba1af6245c0335a0"
       ],
       "layout": "IPY_MODEL_5c3d7f11bace4982b8b1a3f46e996e64"
      }
     },
     "cf040072f1f04d91b5e570ff165ffc20": {
      "model_module": "@jupyter-widgets/controls",
      "model_module_version": "1.5.0",
      "model_name": "HTMLModel",
      "state": {
       "layout": "IPY_MODEL_a6efbcee79004d97a22413bae5f9d118",
       "style": "IPY_MODEL_594470f6c1f34b7da930861c790c1337",
       "value": " 24.6k/? [05:39&lt;00:00, 72.3B/s]"
      }
     },
     "e16ed547a62448ca90e64e215ca6305b": {
      "model_module": "@jupyter-widgets/base",
      "model_module_version": "1.2.0",
      "model_name": "LayoutModel",
      "state": {}
     },
     "e723475c79324932a3e9d8514e2dc657": {
      "model_module": "@jupyter-widgets/base",
      "model_module_version": "1.2.0",
      "model_name": "LayoutModel",
      "state": {}
     },
     "f21933517d704ab78041e3c8013602b7": {
      "model_module": "@jupyter-widgets/controls",
      "model_module_version": "1.5.0",
      "model_name": "DescriptionStyleModel",
      "state": {
       "description_width": ""
      }
     },
     "fed1c16f963e4344878af322818928da": {
      "model_module": "@jupyter-widgets/controls",
      "model_module_version": "1.5.0",
      "model_name": "IntProgressModel",
      "state": {
       "bar_style": "success",
       "description": "EDRCUMINDEX.LBL: ",
       "layout": "IPY_MODEL_ba82e6befb6b4feaacc2bd996e96d4f8",
       "max": 1,
       "style": "IPY_MODEL_907f99794c594c3aa88ba1c762a68ccc",
       "value": 1
      }
     }
    },
    "version_major": 2,
    "version_minor": 0
   }
  }
 },
 "nbformat": 4,
 "nbformat_minor": 4
}
