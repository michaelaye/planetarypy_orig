{
 "cells": [
  {
   "cell_type": "markdown",
   "metadata": {
    "toc": "true"
   },
   "source": [
    "<h1>Table of Contents<span class=\"tocSkip\"></span></h1>\n",
    "<div class=\"toc\"><ul class=\"toc-item\"></ul></div>"
   ]
  },
  {
   "cell_type": "code",
   "execution_count": 1,
   "metadata": {
    "ExecuteTime": {
     "end_time": "2018-05-23T05:20:28.363535Z",
     "start_time": "2018-05-23T05:20:28.324884Z"
    }
   },
   "outputs": [],
   "source": [
    "from planetarypy.pdstools.indices import IndexDB"
   ]
  },
  {
   "cell_type": "code",
   "execution_count": 2,
   "metadata": {
    "ExecuteTime": {
     "end_time": "2018-05-23T16:33:16.605738Z",
     "start_time": "2018-05-23T16:33:15.686393Z"
    }
   },
   "outputs": [],
   "source": [
    "db = IndexDB()"
   ]
  },
  {
   "cell_type": "code",
   "execution_count": 3,
   "metadata": {
    "ExecuteTime": {
     "end_time": "2018-05-23T05:33:15.014575Z",
     "start_time": "2018-05-23T05:33:14.822399Z"
    }
   },
   "outputs": [
    {
     "name": "stdout",
     "output_type": "stream",
     "text": [
      "[cassini.iss.index]\n",
      "url = \"https://pds-rings.seti.org/holdings/metadata/COISS_2xxx/COISS_2999/COISS_2999_index.lbl\"\n",
      "last-modified = \"\"\n",
      "timestamp = \"2019-11-19T23:37:22\"\n",
      "\n",
      "[cassini.iss.inventory]\n",
      "url = \"https://pds-rings.seti.org/holdings/metadata/COISS_2xxx/COISS_2999/COISS_2999_inventory.lbl\"\n",
      "last-modified = \"\"\n",
      "\n",
      "[cassini.iss.moon_summary]\n",
      "url = \"https://pds-rings.seti.org/holdings/metadata/COISS_2xxx/COISS_2999/COISS_2999_moon_summary.lbl\"\n",
      "last-modified = \"\"\n",
      "\n",
      "[cassini.iss.ring_summary]\n",
      "url = \"https://pds-rings.seti.org/holdings/metadata/COISS_2xxx/COISS_2999/COISS_2999_ring_summary.lbl\"\n",
      "last-modified = \"\"\n",
      "\n",
      "[cassini.iss.saturn_summary]\n",
      "url = \"https://pds-rings.seti.org/holdings/metadata/COISS_2xxx/COISS_2999/COISS_2999_saturn_summary.lbl\"\n",
      "last-modified = \"\"\n",
      "\n",
      "[cassini.uvis.index]\n",
      "url = \"https://pds-rings.seti.org/holdings/metadata/COUVIS_0xxx/COUVIS_0999/COUVIS_0999_index.lbl\"\n",
      "last-modified = \"\"\n",
      "\n",
      "[cassini.uvis.moon_summary]\n",
      "url = \"https://pds-rings.seti.org/holdings/metadata/COUVIS_0xxx/COUVIS_0999/COUVIS_0999_moon_summary.lbl\"\n",
      "last-modified = \"\"\n",
      "\n",
      "[cassini.uvis.ring_summary]\n",
      "url = \"https://pds-rings.seti.org/holdings/metadata/COUVIS_0xxx/COUVIS_0999/COUVIS_0999_ring_summary.lbl\"\n",
      "last-modified = \"\"\n",
      "\n",
      "[cassini.uvis.saturn_summary]\n",
      "url = \"https://pds-rings.seti.org/holdings/metadata/COUVIS_0xxx/COUVIS_0999/COUVIS_0999_saturn_summary.lbl\"\n",
      "last-modified = \"\"\n",
      "\n",
      "[cassini.uvis.supplemental_index]\n",
      "url = \"https://pds-rings.seti.org/holdings/metadata/COUVIS_0xxx/COUVIS_0999/COUVIS_0999_supplemental_index.lbl\"\n",
      "last-modified = \"\"\n",
      "\n",
      "[mro.hirise.dtm]\n",
      "url = \"https://hirise-pds.lpl.arizona.edu/PDS/INDEX/DTMCUMINDEX.LBL\"\n",
      "last-modified = \"\"\n",
      "\n",
      "[mro.hirise.edr]\n",
      "url = \"https://hirise-pds.lpl.arizona.edu/PDS/INDEX/EDRCUMINDEX.LBL\"\n",
      "last-modified = \"\"\n",
      "timestamp = \"2019-11-14T17:21:48\"\n",
      "\n",
      "[mro.hirise.rdr]\n",
      "url = \"https://hirise-pds.lpl.arizona.edu/PDS/INDEX/RDRCUMINDEX.LBL\"\n",
      "timestamp = \"2019-11-14T17:13:10\"\n",
      "\n",
      "[akatsuki.ir2.l2b]\n",
      "url = \"https://atmos.nmsu.edu/PDS/data/vcoir2_1001/index/index.lbl\"\n",
      "timestamp = \"2019-06-03T21:06:39\"\n",
      "\n",
      "Use indices.download('mission.instrument.index') to download in index file.\n",
      "For example: indices.download('cassini.uvis.moon_summary'\n"
     ]
    }
   ],
   "source": [
    "db.list_indices()"
   ]
  },
  {
   "cell_type": "code",
   "execution_count": 4,
   "metadata": {},
   "outputs": [
    {
     "name": "stdout",
     "output_type": "stream",
     "text": [
      "Stored index is up-to-date.\n"
     ]
    },
    {
     "data": {
      "text/plain": [
       "PosixPath('/Users/klay6683/Dropbox/data/planetarypy/indices/akatsuki/ir2/l2b/index.hdf')"
      ]
     },
     "execution_count": 4,
     "metadata": {},
     "output_type": "execute_result"
    }
   ],
   "source": [
    "p = db.download('akatsuki.ir2.l2b')\n",
    "p"
   ]
  },
  {
   "cell_type": "code",
   "execution_count": 5,
   "metadata": {},
   "outputs": [],
   "source": [
    "df = pd.read_hdf(p)"
   ]
  },
  {
   "cell_type": "code",
   "execution_count": 6,
   "metadata": {},
   "outputs": [
    {
     "data": {
      "text/html": [
       "<div>\n",
       "<style scoped>\n",
       "    .dataframe tbody tr th:only-of-type {\n",
       "        vertical-align: middle;\n",
       "    }\n",
       "\n",
       "    .dataframe tbody tr th {\n",
       "        vertical-align: top;\n",
       "    }\n",
       "\n",
       "    .dataframe thead th {\n",
       "        text-align: right;\n",
       "    }\n",
       "</style>\n",
       "<table border=\"1\" class=\"dataframe\">\n",
       "  <thead>\n",
       "    <tr style=\"text-align: right;\">\n",
       "      <th></th>\n",
       "      <th>START_TIME</th>\n",
       "      <th>OBSERVATION_TIME</th>\n",
       "      <th>STOP_TIME</th>\n",
       "      <th>ELAPSED_DAYS_FROM_VOI</th>\n",
       "      <th>FILE_SPECIFICATION_NAME</th>\n",
       "      <th>PRODUCT_ID</th>\n",
       "      <th>DATA_SET_ID</th>\n",
       "      <th>PRODUCT_CREATION_TIME</th>\n",
       "      <th>VOLUME_ID</th>\n",
       "      <th>TARGET_NAME</th>\n",
       "      <th>...</th>\n",
       "      <th>EXPOSURE_DURATION</th>\n",
       "      <th>NAIF_INSTRUMENT_NAME</th>\n",
       "      <th>LOWER_LEFT_X_POSITION</th>\n",
       "      <th>LOWER_LEFT_Y_POSITION</th>\n",
       "      <th>UPPER_RIGHT_X_POSITION</th>\n",
       "      <th>UPPER_RIGHT_Y_POSITION</th>\n",
       "      <th>MAXIMUM</th>\n",
       "      <th>MINIMUM</th>\n",
       "      <th>MEAN</th>\n",
       "      <th>STANDARD_DEVIATION</th>\n",
       "    </tr>\n",
       "  </thead>\n",
       "  <tbody>\n",
       "    <tr>\n",
       "      <th>0</th>\n",
       "      <td>2010-05-21 11:52:40.862</td>\n",
       "      <td>2010-05-21 11:52:44.332</td>\n",
       "      <td>2010-05-21 11:52:47.801</td>\n",
       "      <td>-2025.50507</td>\n",
       "      <td>data/l2b/c0000/ir2_20100521_115244_202_l2b_v10.lbl</td>\n",
       "      <td>IR2_20100521_115244_202_L2B_V10.FIT</td>\n",
       "      <td>VCO-V-IR2-3-CDR-V1.0</td>\n",
       "      <td>2019-04-10 22:28:51</td>\n",
       "      <td>VCOIR2_1001</td>\n",
       "      <td>EARTH</td>\n",
       "      <td>...</td>\n",
       "      <td>6.97</td>\n",
       "      <td>VCO_IR2_202</td>\n",
       "      <td>1</td>\n",
       "      <td>1</td>\n",
       "      <td>1024</td>\n",
       "      <td>1024</td>\n",
       "      <td>-92.902000</td>\n",
       "      <td>-105.201000</td>\n",
       "      <td>-99.999200</td>\n",
       "      <td>0.174275</td>\n",
       "    </tr>\n",
       "    <tr>\n",
       "      <th>1</th>\n",
       "      <td>2010-06-09 10:28:41.455</td>\n",
       "      <td>2010-06-09 10:28:44.924</td>\n",
       "      <td>2010-06-09 10:28:48.393</td>\n",
       "      <td>-2006.56339</td>\n",
       "      <td>data/l2b/c0000/ir2_20100609_102844_202_l2b_v10.lbl</td>\n",
       "      <td>IR2_20100609_102844_202_L2B_V10.FIT</td>\n",
       "      <td>VCO-V-IR2-3-CDR-V1.0</td>\n",
       "      <td>2019-04-10 22:28:52</td>\n",
       "      <td>VCOIR2_1001</td>\n",
       "      <td>STAR</td>\n",
       "      <td>...</td>\n",
       "      <td>6.97</td>\n",
       "      <td>VCO_IR2_202</td>\n",
       "      <td>1</td>\n",
       "      <td>641</td>\n",
       "      <td>1024</td>\n",
       "      <td>1024</td>\n",
       "      <td>11.950700</td>\n",
       "      <td>-12.161100</td>\n",
       "      <td>0.494848</td>\n",
       "      <td>2.542680</td>\n",
       "    </tr>\n",
       "    <tr>\n",
       "      <th>2</th>\n",
       "      <td>2010-09-07 05:12:10.815</td>\n",
       "      <td>2010-09-07 05:12:14.284</td>\n",
       "      <td>2010-09-07 05:12:17.754</td>\n",
       "      <td>-1916.78319</td>\n",
       "      <td>data/l2b/c0000/ir2_20100907_051214_202_l2b_v10.lbl</td>\n",
       "      <td>IR2_20100907_051214_202_L2B_V10.FIT</td>\n",
       "      <td>VCO-V-IR2-3-CDR-V1.0</td>\n",
       "      <td>2019-04-10 22:28:53</td>\n",
       "      <td>VCOIR2_1001</td>\n",
       "      <td>STAR</td>\n",
       "      <td>...</td>\n",
       "      <td>6.97</td>\n",
       "      <td>VCO_IR2_202</td>\n",
       "      <td>1</td>\n",
       "      <td>1</td>\n",
       "      <td>1024</td>\n",
       "      <td>1024</td>\n",
       "      <td>0.022893</td>\n",
       "      <td>-0.024013</td>\n",
       "      <td>0.000060</td>\n",
       "      <td>0.002475</td>\n",
       "    </tr>\n",
       "    <tr>\n",
       "      <th>3</th>\n",
       "      <td>2010-09-07 07:04:26.763</td>\n",
       "      <td>2010-09-07 07:04:36.233</td>\n",
       "      <td>2010-09-07 07:04:45.702</td>\n",
       "      <td>-1916.70516</td>\n",
       "      <td>data/l2b/c0000/ir2_20100907_070436_174_l2b_v10.lbl</td>\n",
       "      <td>IR2_20100907_070436_174_L2B_V10.FIT</td>\n",
       "      <td>VCO-V-IR2-3-CDR-V1.0</td>\n",
       "      <td>2019-04-10 22:28:54</td>\n",
       "      <td>VCOIR2_1001</td>\n",
       "      <td>STAR</td>\n",
       "      <td>...</td>\n",
       "      <td>18.97</td>\n",
       "      <td>VCO_IR2_174</td>\n",
       "      <td>1</td>\n",
       "      <td>1</td>\n",
       "      <td>1024</td>\n",
       "      <td>1024</td>\n",
       "      <td>0.000591</td>\n",
       "      <td>-0.001437</td>\n",
       "      <td>-0.000026</td>\n",
       "      <td>0.000072</td>\n",
       "    </tr>\n",
       "    <tr>\n",
       "      <th>4</th>\n",
       "      <td>2010-09-07 07:05:17.075</td>\n",
       "      <td>2010-09-07 07:05:26.545</td>\n",
       "      <td>2010-09-07 07:05:36.014</td>\n",
       "      <td>-1916.70458</td>\n",
       "      <td>data/l2b/c0000/ir2_20100907_070526_232_l2b_v10.lbl</td>\n",
       "      <td>IR2_20100907_070526_232_L2B_V10.FIT</td>\n",
       "      <td>VCO-V-IR2-3-CDR-V1.0</td>\n",
       "      <td>2019-04-10 22:28:55</td>\n",
       "      <td>VCOIR2_1001</td>\n",
       "      <td>STAR</td>\n",
       "      <td>...</td>\n",
       "      <td>18.97</td>\n",
       "      <td>VCO_IR2_232</td>\n",
       "      <td>1</td>\n",
       "      <td>1</td>\n",
       "      <td>1024</td>\n",
       "      <td>1024</td>\n",
       "      <td>0.000865</td>\n",
       "      <td>-0.002052</td>\n",
       "      <td>-0.000034</td>\n",
       "      <td>0.000105</td>\n",
       "    </tr>\n",
       "  </tbody>\n",
       "</table>\n",
       "<p>5 rows × 36 columns</p>\n",
       "</div>"
      ],
      "text/plain": [
       "               START_TIME        OBSERVATION_TIME               STOP_TIME  ELAPSED_DAYS_FROM_VOI                             FILE_SPECIFICATION_NAME                           PRODUCT_ID  \\\n",
       "0 2010-05-21 11:52:40.862 2010-05-21 11:52:44.332 2010-05-21 11:52:47.801            -2025.50507  data/l2b/c0000/ir2_20100521_115244_202_l2b_v10.lbl  IR2_20100521_115244_202_L2B_V10.FIT   \n",
       "1 2010-06-09 10:28:41.455 2010-06-09 10:28:44.924 2010-06-09 10:28:48.393            -2006.56339  data/l2b/c0000/ir2_20100609_102844_202_l2b_v10.lbl  IR2_20100609_102844_202_L2B_V10.FIT   \n",
       "2 2010-09-07 05:12:10.815 2010-09-07 05:12:14.284 2010-09-07 05:12:17.754            -1916.78319  data/l2b/c0000/ir2_20100907_051214_202_l2b_v10.lbl  IR2_20100907_051214_202_L2B_V10.FIT   \n",
       "3 2010-09-07 07:04:26.763 2010-09-07 07:04:36.233 2010-09-07 07:04:45.702            -1916.70516  data/l2b/c0000/ir2_20100907_070436_174_l2b_v10.lbl  IR2_20100907_070436_174_L2B_V10.FIT   \n",
       "4 2010-09-07 07:05:17.075 2010-09-07 07:05:26.545 2010-09-07 07:05:36.014            -1916.70458  data/l2b/c0000/ir2_20100907_070526_232_l2b_v10.lbl  IR2_20100907_070526_232_L2B_V10.FIT   \n",
       "\n",
       "            DATA_SET_ID PRODUCT_CREATION_TIME    VOLUME_ID TARGET_NAME  ... EXPOSURE_DURATION  NAIF_INSTRUMENT_NAME LOWER_LEFT_X_POSITION  LOWER_LEFT_Y_POSITION  UPPER_RIGHT_X_POSITION  \\\n",
       "0  VCO-V-IR2-3-CDR-V1.0   2019-04-10 22:28:51  VCOIR2_1001       EARTH  ...              6.97           VCO_IR2_202                     1                      1                    1024   \n",
       "1  VCO-V-IR2-3-CDR-V1.0   2019-04-10 22:28:52  VCOIR2_1001        STAR  ...              6.97           VCO_IR2_202                     1                    641                    1024   \n",
       "2  VCO-V-IR2-3-CDR-V1.0   2019-04-10 22:28:53  VCOIR2_1001        STAR  ...              6.97           VCO_IR2_202                     1                      1                    1024   \n",
       "3  VCO-V-IR2-3-CDR-V1.0   2019-04-10 22:28:54  VCOIR2_1001        STAR  ...             18.97           VCO_IR2_174                     1                      1                    1024   \n",
       "4  VCO-V-IR2-3-CDR-V1.0   2019-04-10 22:28:55  VCOIR2_1001        STAR  ...             18.97           VCO_IR2_232                     1                      1                    1024   \n",
       "\n",
       "   UPPER_RIGHT_Y_POSITION    MAXIMUM     MINIMUM       MEAN  STANDARD_DEVIATION  \n",
       "0                    1024 -92.902000 -105.201000 -99.999200            0.174275  \n",
       "1                    1024  11.950700  -12.161100   0.494848            2.542680  \n",
       "2                    1024   0.022893   -0.024013   0.000060            0.002475  \n",
       "3                    1024   0.000591   -0.001437  -0.000026            0.000072  \n",
       "4                    1024   0.000865   -0.002052  -0.000034            0.000105  \n",
       "\n",
       "[5 rows x 36 columns]"
      ]
     },
     "execution_count": 6,
     "metadata": {},
     "output_type": "execute_result"
    }
   ],
   "source": [
    "df.head()"
   ]
  },
  {
   "cell_type": "code",
   "execution_count": 4,
   "metadata": {},
   "outputs": [
    {
     "ename": "TypeError",
     "evalue": "__init__() got an unexpected keyword argument 'last-modified'",
     "output_type": "error",
     "traceback": [
      "\u001b[0;31m---------------------------------------------------------------------------\u001b[0m",
      "\u001b[0;31mTypeError\u001b[0m                                 Traceback (most recent call last)",
      "\u001b[0;32m<ipython-input-4-c241ef5e355c>\u001b[0m in \u001b[0;36m<module>\u001b[0;34m\u001b[0m\n\u001b[0;32m----> 1\u001b[0;31m \u001b[0mindex\u001b[0m \u001b[0;34m=\u001b[0m \u001b[0mdb\u001b[0m\u001b[0;34m.\u001b[0m\u001b[0mget_by_path\u001b[0m\u001b[0;34m(\u001b[0m\u001b[0;34m'mro.hirise.rdr'\u001b[0m\u001b[0;34m)\u001b[0m\u001b[0;34m\u001b[0m\u001b[0;34m\u001b[0m\u001b[0m\n\u001b[0m",
      "\u001b[0;32m~/src/planetarypy/planetarypy/pdstools/indices.py\u001b[0m in \u001b[0;36mget_by_path\u001b[0;34m(self, nested_key)\u001b[0m\n\u001b[1;32m    229\u001b[0m         \u001b[0;32mfor\u001b[0m \u001b[0mk\u001b[0m \u001b[0;32min\u001b[0m \u001b[0mmapList\u001b[0m\u001b[0;34m:\u001b[0m\u001b[0;34m\u001b[0m\u001b[0;34m\u001b[0m\u001b[0m\n\u001b[1;32m    230\u001b[0m             \u001b[0md\u001b[0m \u001b[0;34m=\u001b[0m \u001b[0md\u001b[0m\u001b[0;34m[\u001b[0m\u001b[0mk\u001b[0m\u001b[0;34m]\u001b[0m\u001b[0;34m\u001b[0m\u001b[0;34m\u001b[0m\u001b[0m\n\u001b[0;32m--> 231\u001b[0;31m         \u001b[0;32mreturn\u001b[0m \u001b[0mIndex\u001b[0m\u001b[0;34m(\u001b[0m\u001b[0mnested_key\u001b[0m\u001b[0;34m,\u001b[0m \u001b[0;34m**\u001b[0m\u001b[0md\u001b[0m\u001b[0;34m)\u001b[0m\u001b[0;34m\u001b[0m\u001b[0;34m\u001b[0m\u001b[0m\n\u001b[0m\u001b[1;32m    232\u001b[0m \u001b[0;34m\u001b[0m\u001b[0m\n\u001b[1;32m    233\u001b[0m     \u001b[0;32mdef\u001b[0m \u001b[0mget\u001b[0m\u001b[0;34m(\u001b[0m\u001b[0mself\u001b[0m\u001b[0;34m,\u001b[0m \u001b[0mnested_key\u001b[0m\u001b[0;34m)\u001b[0m\u001b[0;34m:\u001b[0m\u001b[0;34m\u001b[0m\u001b[0;34m\u001b[0m\u001b[0m\n",
      "\u001b[0;31mTypeError\u001b[0m: __init__() got an unexpected keyword argument 'last-modified'"
     ]
    }
   ],
   "source": [
    "index = db.get_by_path('mro.hirise.rdr')"
   ]
  },
  {
   "cell_type": "code",
   "execution_count": null,
   "metadata": {},
   "outputs": [],
   "source": []
  }
 ],
 "metadata": {
  "kernelspec": {
   "display_name": "Python 3",
   "language": "python",
   "name": "conda-env-py38-py"
  },
  "language_info": {
   "codemirror_mode": {
    "name": "ipython",
    "version": 3
   },
   "file_extension": ".py",
   "mimetype": "text/x-python",
   "name": "python",
   "nbconvert_exporter": "python",
   "pygments_lexer": "ipython3",
   "version": "3.8.23.7.3"
  },
  "toc": {
   "base_numbering": 1,
   "nav_menu": {
    "height": "12px",
    "width": "252px"
   },
   "number_sections": false,
   "sideBar": false,
   "skip_h1_title": false,
   "title_cell": "Table of Contents",
   "title_sidebar": "Contents",
   "toc_cell": true,
   "toc_position": {},
   "toc_section_display": "block",
   "toc_window_display": false
  },
  "widgets": {
   "application/vnd.jupyter.widget-state+json": {
    "state": {},
    "version_major": 2,
    "version_minor": 0
   }
  }
 },
 "nbformat": 4,
 "nbformat_minor": 4
}
