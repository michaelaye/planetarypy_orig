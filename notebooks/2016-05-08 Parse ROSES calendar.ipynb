{
 "cells": [
  {
   "cell_type": "code",
   "execution_count": 1,
   "metadata": {
    "collapsed": true
   },
   "outputs": [],
   "source": [
    "url = \"https://nspires.nasaprs.com/external/viewrepositorydocument/cmdocumentid=492458/solicitationId=%7B68C12087-132D-3814-9A87-5323BCE6CAB6%7D/viewSolicitationDocument=1/Table%202%202016_amend8_clarify.html\""
   ]
  },
  {
   "cell_type": "code",
   "execution_count": 2,
   "metadata": {
    "collapsed": true
   },
   "outputs": [],
   "source": [
    "import requests"
   ]
  },
  {
   "cell_type": "code",
   "execution_count": 3,
   "metadata": {
    "collapsed": true
   },
   "outputs": [],
   "source": [
    "from bs4 import BeautifulSoup"
   ]
  },
  {
   "cell_type": "code",
   "execution_count": 4,
   "metadata": {
    "collapsed": true
   },
   "outputs": [],
   "source": [
    "r = requests.get(url)"
   ]
  },
  {
   "cell_type": "code",
   "execution_count": 5,
   "metadata": {
    "collapsed": false
   },
   "outputs": [],
   "source": [
    "soup = BeautifulSoup(r.text, 'lxml')"
   ]
  },
  {
   "cell_type": "code",
   "execution_count": 6,
   "metadata": {
    "collapsed": false,
    "scrolled": false
   },
   "outputs": [],
   "source": [
    "table = soup.find('table')"
   ]
  },
  {
   "cell_type": "code",
   "execution_count": 7,
   "metadata": {
    "collapsed": true
   },
   "outputs": [],
   "source": [
    "rows = table.find_all('tr')"
   ]
  },
  {
   "cell_type": "code",
   "execution_count": 8,
   "metadata": {
    "collapsed": true
   },
   "outputs": [],
   "source": [
    "def parse_header(row):\n",
    "    headers = [i.get_text() for i in row.find_all('th')]\n",
    "    headers = [i.strip() for i in headers]\n",
    "    return [header.splitlines()[0].strip() for header in headers]"
   ]
  },
  {
   "cell_type": "code",
   "execution_count": 9,
   "metadata": {
    "collapsed": false
   },
   "outputs": [],
   "source": [
    "columns = parse_header(rows[0])"
   ]
  },
  {
   "cell_type": "code",
   "execution_count": 10,
   "metadata": {
    "collapsed": false
   },
   "outputs": [],
   "source": [
    "def parse_table(rows):\n",
    "    cell_data = []\n",
    "    for row in rows:\n",
    "        cells = [cell.get_text().strip() for cell in row.find_all('td')]\n",
    "        cell_data.append(cells)\n",
    "    return cell_data"
   ]
  },
  {
   "cell_type": "code",
   "execution_count": 11,
   "metadata": {
    "collapsed": false
   },
   "outputs": [],
   "source": [
    "df = pd.DataFrame(parse_table(rows[1:]), columns=columns)"
   ]
  },
  {
   "cell_type": "code",
   "execution_count": 12,
   "metadata": {
    "collapsed": false
   },
   "outputs": [
    {
     "data": {
      "text/html": [
       "<div>\n",
       "<table border=\"1\" class=\"dataframe\">\n",
       "  <thead>\n",
       "    <tr style=\"text-align: right;\">\n",
       "      <th></th>\n",
       "      <th>APPENDIX</th>\n",
       "      <th>PROGRAM</th>\n",
       "      <th>NOI/Step-1</th>\n",
       "      <th>PROPOSAL</th>\n",
       "    </tr>\n",
       "  </thead>\n",
       "  <tbody>\n",
       "    <tr>\n",
       "      <th>0</th>\n",
       "      <td>B.4</td>\n",
       "      <td>Heliophysics Guest Investigators</td>\n",
       "      <td>03/18/2016 (Step-1)</td>\n",
       "      <td>04/22/2016(Step-2)</td>\n",
       "    </tr>\n",
       "    <tr>\n",
       "      <th>1</th>\n",
       "      <td>A.29</td>\n",
       "      <td>NASA Data for Operation and Assessment</td>\n",
       "      <td>03/15/2016</td>\n",
       "      <td>05/20/2016</td>\n",
       "    </tr>\n",
       "    <tr>\n",
       "      <th>2</th>\n",
       "      <td>D.2</td>\n",
       "      <td>Astrophysics Data Analysis</td>\n",
       "      <td>03/25/2016</td>\n",
       "      <td>05/13/2016</td>\n",
       "    </tr>\n",
       "    <tr>\n",
       "      <th>3</th>\n",
       "      <td>A.46</td>\n",
       "      <td>Earth Science Applications: Ecological Forecas...</td>\n",
       "      <td>03/16/2016</td>\n",
       "      <td>05/26/2016</td>\n",
       "    </tr>\n",
       "    <tr>\n",
       "      <th>4</th>\n",
       "      <td>E.3</td>\n",
       "      <td>Exoplanets Research Program [3]</td>\n",
       "      <td>03/29/2016 (Step-1)</td>\n",
       "      <td>05/26/2016(Step-2)</td>\n",
       "    </tr>\n",
       "  </tbody>\n",
       "</table>\n",
       "</div>"
      ],
      "text/plain": [
       "  APPENDIX                                            PROGRAM  \\\n",
       "0      B.4                   Heliophysics Guest Investigators   \n",
       "1     A.29             NASA Data for Operation and Assessment   \n",
       "2      D.2                         Astrophysics Data Analysis   \n",
       "3     A.46  Earth Science Applications: Ecological Forecas...   \n",
       "4      E.3                    Exoplanets Research Program [3]   \n",
       "\n",
       "            NOI/Step-1            PROPOSAL  \n",
       "0  03/18/2016 (Step-1)  04/22/2016(Step-2)  \n",
       "1           03/15/2016          05/20/2016  \n",
       "2           03/25/2016          05/13/2016  \n",
       "3           03/16/2016          05/26/2016  \n",
       "4  03/29/2016 (Step-1)  05/26/2016(Step-2)  "
      ]
     },
     "execution_count": 12,
     "metadata": {},
     "output_type": "execute_result"
    }
   ],
   "source": [
    "df.head()"
   ]
  },
  {
   "cell_type": "code",
   "execution_count": null,
   "metadata": {
    "collapsed": true
   },
   "outputs": [],
   "source": []
  }
 ],
 "metadata": {
  "kernelspec": {
   "display_name": "Python3 (stable)",
   "language": "python",
   "name": "stable"
  },
  "language_info": {
   "codemirror_mode": {
    "name": "ipython",
    "version": 3
   },
   "file_extension": ".py",
   "mimetype": "text/x-python",
   "name": "python",
   "nbconvert_exporter": "python",
   "pygments_lexer": "ipython3",
   "version": "3.5.1"
  }
 },
 "nbformat": 4,
 "nbformat_minor": 0
}
