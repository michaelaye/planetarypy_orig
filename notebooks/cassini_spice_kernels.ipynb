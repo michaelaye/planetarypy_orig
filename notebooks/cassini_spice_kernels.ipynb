{
 "cells": [
  {
   "cell_type": "markdown",
   "metadata": {},
   "source": [
    "# Cassini SPICE kernels downloader"
   ]
  },
  {
   "cell_type": "code",
   "execution_count": 7,
   "metadata": {
    "ExecuteTime": {
     "end_time": "2017-06-26T22:42:51.447436Z",
     "start_time": "2017-06-26T22:42:51.413657Z"
    },
    "collapsed": true
   },
   "outputs": [],
   "source": [
    "from planetpy.spicekernels.cassini import *\n",
    "from planetpy.spicekernels.general import *\n",
    "from astropy.time import Time"
   ]
  },
  {
   "cell_type": "code",
   "execution_count": 8,
   "metadata": {
    "ExecuteTime": {
     "end_time": "2017-06-26T22:42:55.116331Z",
     "start_time": "2017-06-26T22:42:54.774294Z"
    },
    "collapsed": true
   },
   "outputs": [],
   "source": [
    "spk = CASSINI_KERNEL('spk')"
   ]
  },
  {
   "cell_type": "code",
   "execution_count": 9,
   "metadata": {
    "ExecuteTime": {
     "end_time": "2017-06-26T22:43:02.989749Z",
     "start_time": "2017-06-26T22:42:55.193905Z"
    },
    "collapsed": true
   },
   "outputs": [],
   "source": [
    "spk.get_file('170417AP_SCPSE_17062_17116.bsp')"
   ]
  },
  {
   "cell_type": "code",
   "execution_count": 10,
   "metadata": {
    "ExecuteTime": {
     "end_time": "2017-06-26T22:43:03.399480Z",
     "start_time": "2017-06-26T22:43:02.994100Z"
    },
    "collapsed": true
   },
   "outputs": [],
   "source": [
    "fnames = spk.filenames"
   ]
  },
  {
   "cell_type": "code",
   "execution_count": 11,
   "metadata": {
    "ExecuteTime": {
     "end_time": "2017-06-26T22:43:03.441511Z",
     "start_time": "2017-06-26T22:43:03.404710Z"
    },
    "collapsed": true
   },
   "outputs": [],
   "source": [
    "tstr = '2017-03-27 14:30'"
   ]
  },
  {
   "cell_type": "code",
   "execution_count": 12,
   "metadata": {
    "ExecuteTime": {
     "end_time": "2017-06-26T22:43:03.497423Z",
     "start_time": "2017-06-26T22:43:03.444283Z"
    }
   },
   "outputs": [
    {
     "data": {
      "text/plain": [
       "'17086'"
      ]
     },
     "execution_count": 12,
     "metadata": {},
     "output_type": "execute_result"
    }
   ],
   "source": [
    "tstr2casdate(tstr)"
   ]
  },
  {
   "cell_type": "code",
   "execution_count": 33,
   "metadata": {
    "ExecuteTime": {
     "end_time": "2017-06-26T22:55:44.146744Z",
     "start_time": "2017-06-26T22:55:44.109059Z"
    },
    "collapsed": true
   },
   "outputs": [],
   "source": [
    "spksearch??"
   ]
  },
  {
   "cell_type": "code",
   "execution_count": 13,
   "metadata": {
    "ExecuteTime": {
     "end_time": "2017-06-26T22:43:04.619964Z",
     "start_time": "2017-06-26T22:43:03.501155Z"
    }
   },
   "outputs": [
    {
     "data": {
      "text/plain": [
       "['090721AP_SCPSE_09198_17265.bsp',\n",
       " '090721AP_SK_09198_17265.bsp',\n",
       " '091005AP_SCPSE_09248_17265.bsp',\n",
       " '091005AP_SK_09248_17265.bsp',\n",
       " '110818AP_SCPSE_11175_17265.bsp',\n",
       " '110818AP_SK_11175_17265.bsp',\n",
       " '140114AP_SCPSE_13290_17265.bsp',\n",
       " '140114AP_SK_13290_17265.bsp',\n",
       " '150901AP_SCPSE_13290_17272.bsp',\n",
       " '150901AP_SK_13290_17272.bsp',\n",
       " '161202AP_SCPSE_16331_17116.bsp',\n",
       " '161202AP_SK_16331_17116.bsp',\n",
       " '161220AP_SCPSE_16357_17116.bsp',\n",
       " '161220AP_SK_16357_17116.bsp',\n",
       " '161230AP_SCPSE_16364_17116.bsp',\n",
       " '161230AP_SK_16364_17116.bsp',\n",
       " '170109AP_SCPSE_17007_17116.bsp',\n",
       " '170109AP_SK_17007_17116.bsp',\n",
       " '170123AP_SCPSE_17007_17116.bsp',\n",
       " '170123AP_SK_17007_17116.bsp',\n",
       " '170130AP_SCPSE_17027_17116.bsp',\n",
       " '170130AP_SK_17027_17116.bsp',\n",
       " '170213AP_SCPSE_17027_17116.bsp',\n",
       " '170213AP_SK_17027_17116.bsp',\n",
       " '170216AP_SCPSE_17046_17116.bsp',\n",
       " '170216AP_SK_17046_17116.bsp',\n",
       " '170227AP_SCPSE_17057_17116.bsp',\n",
       " '170227AP_SK_17057_17116.bsp',\n",
       " '170313AP_SCPSE_17062_17116.bsp',\n",
       " '170313AP_SK_17062_17116.bsp',\n",
       " '170327AP_SCPSE_17062_17116.bsp',\n",
       " '170327AP_SK_17062_17116.bsp',\n",
       " '170410AP_SCPSE_17062_17116.bsp',\n",
       " '170410AP_SK_17062_17116.bsp',\n",
       " '170417AP_SCPSE_17062_17116.bsp',\n",
       " '170417AP_SK_17062_17116.bsp']"
      ]
     },
     "execution_count": 13,
     "metadata": {},
     "output_type": "execute_result"
    }
   ],
   "source": [
    "spksearch(tstr, fnames)"
   ]
  },
  {
   "cell_type": "code",
   "execution_count": 21,
   "metadata": {
    "ExecuteTime": {
     "end_time": "2017-05-17T04:24:11.416522Z",
     "start_time": "2017-05-17T04:24:10.818148Z"
    },
    "collapsed": true
   },
   "outputs": [],
   "source": [
    "spk = CASSINI_KERNEL('spk')"
   ]
  },
  {
   "cell_type": "code",
   "execution_count": 22,
   "metadata": {
    "ExecuteTime": {
     "end_time": "2017-05-17T04:24:20.540267Z",
     "start_time": "2017-05-17T04:24:20.478926Z"
    }
   },
   "outputs": [
    {
     "ename": "FileNotFoundError",
     "evalue": "[Errno 2] No such file or directory: '/Volumes/USB128II/spice/UVIS_data/kernels/spk/170417AP_SCPSE_17062_17116.bsp'",
     "output_type": "error",
     "traceback": [
      "\u001b[0;31m---------------------------------------------------------------------------\u001b[0m",
      "\u001b[0;31mFileNotFoundError\u001b[0m                         Traceback (most recent call last)",
      "\u001b[0;32m<ipython-input-22-166d68f00cc9>\u001b[0m in \u001b[0;36m<module>\u001b[0;34m()\u001b[0m\n\u001b[0;32m----> 1\u001b[0;31m \u001b[0mspk\u001b[0m\u001b[0;34m.\u001b[0m\u001b[0mget_file\u001b[0m\u001b[0;34m(\u001b[0m\u001b[0;34m'170417AP_SCPSE_17062_17116.bsp'\u001b[0m\u001b[0;34m)\u001b[0m\u001b[0;34m\u001b[0m\u001b[0m\n\u001b[0m",
      "\u001b[0;32m/Users/klay6683/Dropbox/src/planetpy/planetpy/spicekernels/general.py\u001b[0m in \u001b[0;36mget_file\u001b[0;34m(self, remote_name, local_name)\u001b[0m\n\u001b[1;32m     32\u001b[0m             \u001b[0mlocal_name\u001b[0m \u001b[0;34m=\u001b[0m \u001b[0mremote_name\u001b[0m\u001b[0;34m\u001b[0m\u001b[0m\n\u001b[1;32m     33\u001b[0m         \u001b[0mlocal_path\u001b[0m \u001b[0;34m=\u001b[0m \u001b[0mstr\u001b[0m\u001b[0;34m(\u001b[0m\u001b[0mself\u001b[0m\u001b[0;34m.\u001b[0m\u001b[0mlocal_dir\u001b[0m \u001b[0;34m/\u001b[0m \u001b[0mPath\u001b[0m\u001b[0;34m(\u001b[0m\u001b[0mself\u001b[0m\u001b[0;34m.\u001b[0m\u001b[0mkernel_dir\u001b[0m\u001b[0;34m)\u001b[0m \u001b[0;34m/\u001b[0m \u001b[0mlocal_name\u001b[0m\u001b[0;34m)\u001b[0m\u001b[0;34m\u001b[0m\u001b[0m\n\u001b[0;32m---> 34\u001b[0;31m         \u001b[0mself\u001b[0m\u001b[0;34m.\u001b[0m\u001b[0mftp\u001b[0m\u001b[0;34m.\u001b[0m\u001b[0mretrbinary\u001b[0m\u001b[0;34m(\u001b[0m\u001b[0;34mf\"RETR {remote_name}\"\u001b[0m\u001b[0;34m,\u001b[0m \u001b[0mopen\u001b[0m\u001b[0;34m(\u001b[0m\u001b[0;34mf\"{local_path}\"\u001b[0m\u001b[0;34m,\u001b[0m \u001b[0;34m\"wb\"\u001b[0m\u001b[0;34m)\u001b[0m\u001b[0;34m.\u001b[0m\u001b[0mwrite\u001b[0m\u001b[0;34m)\u001b[0m\u001b[0;34m\u001b[0m\u001b[0m\n\u001b[0m",
      "\u001b[0;31mFileNotFoundError\u001b[0m: [Errno 2] No such file or directory: '/Volumes/USB128II/spice/UVIS_data/kernels/spk/170417AP_SCPSE_17062_17116.bsp'"
     ]
    }
   ],
   "source": [
    "spk.get_file('170417AP_SCPSE_17062_17116.bsp')"
   ]
  },
  {
   "cell_type": "code",
   "execution_count": 14,
   "metadata": {
    "ExecuteTime": {
     "end_time": "2017-06-26T22:43:18.387269Z",
     "start_time": "2017-06-26T22:43:17.983975Z"
    },
    "collapsed": true
   },
   "outputs": [],
   "source": [
    "casfname = SPK_FNAME(spk.filenames[0])"
   ]
  },
  {
   "cell_type": "code",
   "execution_count": 15,
   "metadata": {
    "ExecuteTime": {
     "end_time": "2017-06-26T22:43:19.119594Z",
     "start_time": "2017-06-26T22:43:19.087728Z"
    }
   },
   "outputs": [
    {
     "data": {
      "text/plain": [
       "'000202R_SK_LP0_V1P32.bsp'"
      ]
     },
     "execution_count": 15,
     "metadata": {},
     "output_type": "execute_result"
    }
   ],
   "source": [
    "casfname.fname"
   ]
  },
  {
   "cell_type": "code",
   "execution_count": 16,
   "metadata": {
    "ExecuteTime": {
     "end_time": "2017-06-26T22:43:20.081798Z",
     "start_time": "2017-06-26T22:43:20.051577Z"
    }
   },
   "outputs": [
    {
     "data": {
      "text/plain": [
       "datetime.datetime(2000, 2, 2, 0, 0)"
      ]
     },
     "execution_count": 16,
     "metadata": {},
     "output_type": "execute_result"
    }
   ],
   "source": [
    "casfname.delivery_date"
   ]
  },
  {
   "cell_type": "code",
   "execution_count": 17,
   "metadata": {
    "ExecuteTime": {
     "end_time": "2017-06-26T22:43:21.785259Z",
     "start_time": "2017-06-26T22:43:21.751834Z"
    }
   },
   "outputs": [
    {
     "data": {
      "text/plain": [
       "'SK'"
      ]
     },
     "execution_count": 17,
     "metadata": {},
     "output_type": "execute_result"
    }
   ],
   "source": [
    "casfname.description"
   ]
  },
  {
   "cell_type": "code",
   "execution_count": 16,
   "metadata": {
    "ExecuteTime": {
     "end_time": "2017-05-17T00:28:36.606777Z",
     "start_time": "2017-05-17T00:28:36.565263Z"
    }
   },
   "outputs": [
    {
     "data": {
      "text/plain": [
       "['Launch', 'after swingby', '0 days']"
      ]
     },
     "execution_count": 16,
     "metadata": {},
     "output_type": "execute_result"
    }
   ],
   "source": [
    "casfname.start_event"
   ]
  },
  {
   "cell_type": "code",
   "execution_count": 17,
   "metadata": {
    "ExecuteTime": {
     "end_time": "2017-05-17T00:28:37.114712Z",
     "start_time": "2017-05-17T00:28:37.078890Z"
    }
   },
   "outputs": [
    {
     "data": {
      "text/plain": [
       "['Venus 1', 'after swingby', '32 days']"
      ]
     },
     "execution_count": 17,
     "metadata": {},
     "output_type": "execute_result"
    }
   ],
   "source": [
    "casfname.end_event"
   ]
  },
  {
   "cell_type": "code",
   "execution_count": 18,
   "metadata": {
    "ExecuteTime": {
     "end_time": "2017-05-17T00:28:38.186867Z",
     "start_time": "2017-05-17T00:28:38.149155Z"
    }
   },
   "outputs": [
    {
     "data": {
      "text/plain": [
       "'000202R_SK_LP0_V1P32.bsp'"
      ]
     },
     "execution_count": 18,
     "metadata": {},
     "output_type": "execute_result"
    }
   ],
   "source": [
    "casfname.fname"
   ]
  },
  {
   "cell_type": "code",
   "execution_count": 19,
   "metadata": {
    "ExecuteTime": {
     "end_time": "2017-05-17T00:28:39.119537Z",
     "start_time": "2017-05-17T00:28:39.085748Z"
    }
   },
   "outputs": [
    {
     "data": {
      "text/plain": [
       "'orbiter S/C trajectory'"
      ]
     },
     "execution_count": 19,
     "metadata": {},
     "output_type": "execute_result"
    }
   ],
   "source": [
    "casfname.long_description"
   ]
  },
  {
   "cell_type": "code",
   "execution_count": null,
   "metadata": {
    "collapsed": true
   },
   "outputs": [],
   "source": []
  },
  {
   "cell_type": "code",
   "execution_count": null,
   "metadata": {
    "collapsed": true
   },
   "outputs": [],
   "source": []
  },
  {
   "cell_type": "code",
   "execution_count": 20,
   "metadata": {
    "ExecuteTime": {
     "end_time": "2017-05-17T00:28:55.426755Z",
     "start_time": "2017-05-17T00:28:55.073809Z"
    },
    "collapsed": true
   },
   "outputs": [],
   "source": [
    "fk = CASSINI_KERNEL('fk')"
   ]
  },
  {
   "cell_type": "code",
   "execution_count": 11,
   "metadata": {
    "ExecuteTime": {
     "end_time": "2017-05-15T18:35:13.307323Z",
     "start_time": "2017-05-15T18:35:12.726155Z"
    },
    "collapsed": true,
    "scrolled": false
   },
   "outputs": [],
   "source": [
    "fnames = ckftp.filenames"
   ]
  },
  {
   "cell_type": "code",
   "execution_count": 14,
   "metadata": {
    "ExecuteTime": {
     "end_time": "2017-05-15T18:35:24.942780Z",
     "start_time": "2017-05-15T18:35:24.911263Z"
    }
   },
   "outputs": [
    {
     "data": {
      "text/plain": [
       "datetime.datetime(2017, 3, 27, 0, 0)"
      ]
     },
     "execution_count": 14,
     "metadata": {},
     "output_type": "execute_result"
    }
   ],
   "source": [
    "casdate2dt(17086)"
   ]
  },
  {
   "cell_type": "code",
   "execution_count": 15,
   "metadata": {
    "ExecuteTime": {
     "end_time": "2017-05-15T18:35:25.475897Z",
     "start_time": "2017-05-15T18:35:25.448510Z"
    },
    "collapsed": true
   },
   "outputs": [],
   "source": []
  },
  {
   "cell_type": "code",
   "execution_count": 16,
   "metadata": {
    "ExecuteTime": {
     "end_time": "2017-05-15T18:35:25.805821Z",
     "start_time": "2017-05-15T18:35:25.771488Z"
    }
   },
   "outputs": [
    {
     "data": {
      "text/plain": [
       "'17086'"
      ]
     },
     "execution_count": 16,
     "metadata": {},
     "output_type": "execute_result"
    }
   ],
   "source": [
    "tstr2casdate(tstr)"
   ]
  },
  {
   "cell_type": "code",
   "execution_count": 28,
   "metadata": {
    "ExecuteTime": {
     "end_time": "2017-06-26T22:54:09.403697Z",
     "start_time": "2017-06-26T22:53:53.120520Z"
    }
   },
   "outputs": [
    {
     "name": "stdout",
     "output_type": "stream",
     "text": [
      "ck\n",
      "spk\n"
     ]
    },
    {
     "ename": "IsADirectoryError",
     "evalue": "[Errno 21] Is a directory: '/Volumes/USB128II/spice/UVIS_data/kernels/spk'",
     "output_type": "error",
     "traceback": [
      "\u001b[0;31m---------------------------------------------------------------------------\u001b[0m",
      "\u001b[0;31mIsADirectoryError\u001b[0m                         Traceback (most recent call last)",
      "\u001b[0;32m<ipython-input-28-60eea792325f>\u001b[0m in \u001b[0;36m<module>\u001b[0;34m()\u001b[0m\n\u001b[1;32m      6\u001b[0m     \u001b[0mhits\u001b[0m \u001b[0;34m=\u001b[0m \u001b[0msearch\u001b[0m\u001b[0;34m.\u001b[0m\u001b[0msearch_target\u001b[0m\u001b[0;34m(\u001b[0m\u001b[0;34m)\u001b[0m\u001b[0;34m\u001b[0m\u001b[0m\n\u001b[1;32m      7\u001b[0m     \u001b[0mto_DL\u001b[0m \u001b[0;34m=\u001b[0m \u001b[0mfind_highest_version\u001b[0m\u001b[0;34m(\u001b[0m\u001b[0mhits\u001b[0m\u001b[0;34m)\u001b[0m\u001b[0;34m\u001b[0m\u001b[0m\n\u001b[0;32m----> 8\u001b[0;31m     \u001b[0mkernel\u001b[0m\u001b[0;34m.\u001b[0m\u001b[0mget_file\u001b[0m\u001b[0;34m(\u001b[0m\u001b[0mto_DL\u001b[0m\u001b[0;34m)\u001b[0m\u001b[0;34m\u001b[0m\u001b[0m\n\u001b[0m",
      "\u001b[0;32m~/Dropbox/src/planetpy/planetpy/spicekernels/general.py\u001b[0m in \u001b[0;36mget_file\u001b[0;34m(self, remote_name, local_name)\u001b[0m\n\u001b[1;32m     32\u001b[0m             \u001b[0mlocal_name\u001b[0m \u001b[0;34m=\u001b[0m \u001b[0mremote_name\u001b[0m\u001b[0;34m\u001b[0m\u001b[0m\n\u001b[1;32m     33\u001b[0m         \u001b[0mlocal_path\u001b[0m \u001b[0;34m=\u001b[0m \u001b[0mstr\u001b[0m\u001b[0;34m(\u001b[0m\u001b[0mself\u001b[0m\u001b[0;34m.\u001b[0m\u001b[0mlocal_dir\u001b[0m \u001b[0;34m/\u001b[0m \u001b[0mPath\u001b[0m\u001b[0;34m(\u001b[0m\u001b[0mself\u001b[0m\u001b[0;34m.\u001b[0m\u001b[0mkernel_dir\u001b[0m\u001b[0;34m)\u001b[0m \u001b[0;34m/\u001b[0m \u001b[0mlocal_name\u001b[0m\u001b[0;34m)\u001b[0m\u001b[0;34m\u001b[0m\u001b[0m\n\u001b[0;32m---> 34\u001b[0;31m         \u001b[0mself\u001b[0m\u001b[0;34m.\u001b[0m\u001b[0mftp\u001b[0m\u001b[0;34m.\u001b[0m\u001b[0mretrbinary\u001b[0m\u001b[0;34m(\u001b[0m\u001b[0;34mf\"RETR {remote_name}\"\u001b[0m\u001b[0;34m,\u001b[0m \u001b[0mopen\u001b[0m\u001b[0;34m(\u001b[0m\u001b[0;34mf\"{local_path}\"\u001b[0m\u001b[0;34m,\u001b[0m \u001b[0;34m\"wb\"\u001b[0m\u001b[0;34m)\u001b[0m\u001b[0;34m.\u001b[0m\u001b[0mwrite\u001b[0m\u001b[0;34m)\u001b[0m\u001b[0;34m\u001b[0m\u001b[0m\n\u001b[0m",
      "\u001b[0;31mIsADirectoryError\u001b[0m: [Errno 21] Is a directory: '/Volumes/USB128II/spice/UVIS_data/kernels/spk'"
     ]
    }
   ],
   "source": [
    "for ktype in ['ck','spk','fk','ik','lsk',' pck', 'sclk']:\n",
    "    print(ktype)\n",
    "    kernel = CASSINI_KERNEL(ktype)\n",
    "    fnames = kernel.filenames\n",
    "    search = CKSEARCH(tstr, fnames)\n",
    "    hits = search.search_target()\n",
    "    to_DL = find_highest_version(hits)\n",
    "    kernel.get_file(to_DL)"
   ]
  },
  {
   "cell_type": "code",
   "execution_count": 29,
   "metadata": {
    "ExecuteTime": {
     "end_time": "2017-06-26T22:54:23.895302Z",
     "start_time": "2017-06-26T22:54:23.386536Z"
    },
    "collapsed": true
   },
   "outputs": [],
   "source": [
    "spk = CASSINI_KERNEL('spk')\n",
    "ck = CASSINI_KERNEL('ck')"
   ]
  },
  {
   "cell_type": "code",
   "execution_count": 30,
   "metadata": {
    "ExecuteTime": {
     "end_time": "2017-06-26T22:54:34.310510Z",
     "start_time": "2017-06-26T22:54:33.828166Z"
    },
    "collapsed": true,
    "scrolled": false
   },
   "outputs": [],
   "source": [
    "search = CKSEARCH(tstr, ck.filenames)"
   ]
  },
  {
   "cell_type": "code",
   "execution_count": 31,
   "metadata": {
    "ExecuteTime": {
     "end_time": "2017-06-26T22:55:23.041498Z",
     "start_time": "2017-06-26T22:55:23.012912Z"
    }
   },
   "outputs": [
    {
     "data": {
      "text/plain": [
       "<planetpy.spicekernels.cassini.CKSEARCH at 0x10dcce2e8>"
      ]
     },
     "execution_count": 31,
     "metadata": {},
     "output_type": "execute_result"
    }
   ],
   "source": []
  },
  {
   "cell_type": "code",
   "execution_count": 20,
   "metadata": {
    "ExecuteTime": {
     "end_time": "2017-06-26T22:43:54.554722Z",
     "start_time": "2017-06-26T22:43:54.117593Z"
    },
    "collapsed": true
   },
   "outputs": [],
   "source": [
    "fnames = spk.filenames"
   ]
  },
  {
   "cell_type": "code",
   "execution_count": 21,
   "metadata": {
    "ExecuteTime": {
     "end_time": "2017-06-26T22:43:55.501969Z",
     "start_time": "2017-06-26T22:43:55.468706Z"
    },
    "scrolled": false
   },
   "outputs": [
    {
     "data": {
      "text/plain": [
       "['170109AP_PE_17007_17116.bsp',\n",
       " '170109AP_PE_17007_17116.bsp.lbl',\n",
       " '170109AP_SCPSE_17007_17116.bsp',\n",
       " '170109AP_SCPSE_17007_17116.bsp.lbl',\n",
       " '170109AP_SE_17007_17116.bsp',\n",
       " '170109AP_SE_17007_17116.bsp.lbl',\n",
       " '170109AP_SK_17007_17116.bsp',\n",
       " '170109AP_SK_17007_17116.bsp.lbl',\n",
       " '170123AP_PE_17007_17116.bsp',\n",
       " '170123AP_PE_17007_17116.bsp.lbl',\n",
       " '170123AP_SCPSE_17007_17116.bsp',\n",
       " '170123AP_SCPSE_17007_17116.bsp.lbl',\n",
       " '170123AP_SE_17007_17116.bsp',\n",
       " '170123AP_SE_17007_17116.bsp.lbl',\n",
       " '170123AP_SK_17007_17116.bsp',\n",
       " '170123AP_SK_17007_17116.bsp.lbl',\n",
       " '170130AP_PE_17027_17116.bsp',\n",
       " '170130AP_PE_17027_17116.bsp.lbl',\n",
       " '170130AP_SCPSE_17027_17116.bsp',\n",
       " '170130AP_SCPSE_17027_17116.bsp.lbl',\n",
       " '170130AP_SE_17027_17116.bsp',\n",
       " '170130AP_SE_17027_17116.bsp.lbl',\n",
       " '170130AP_SK_17027_17116.bsp',\n",
       " '170130AP_SK_17027_17116.bsp.lbl',\n",
       " '170213AP_PE_17027_17116.bsp',\n",
       " '170213AP_PE_17027_17116.bsp.lbl',\n",
       " '170213AP_SCPSE_17027_17116.bsp',\n",
       " '170213AP_SCPSE_17027_17116.bsp.lbl',\n",
       " '170213AP_SE_17027_17116.bsp',\n",
       " '170213AP_SE_17027_17116.bsp.lbl',\n",
       " '170213AP_SK_17027_17116.bsp',\n",
       " '170213AP_SK_17027_17116.bsp.lbl',\n",
       " '170216AP_PE_17046_17116.bsp',\n",
       " '170216AP_PE_17046_17116.bsp.lbl',\n",
       " '170216AP_SCPSE_17046_17116.bsp',\n",
       " '170216AP_SCPSE_17046_17116.bsp.lbl',\n",
       " '170216AP_SE_17046_17116.bsp',\n",
       " '170216AP_SE_17046_17116.bsp.lbl',\n",
       " '170216AP_SK_17046_17116.bsp',\n",
       " '170216AP_SK_17046_17116.bsp.lbl',\n",
       " '170227AP_PE_17057_17116.bsp',\n",
       " '170227AP_PE_17057_17116.bsp.lbl',\n",
       " '170227AP_SCPSE_17057_17116.bsp',\n",
       " '170227AP_SCPSE_17057_17116.bsp.lbl',\n",
       " '170227AP_SE_17057_17116.bsp',\n",
       " '170227AP_SE_17057_17116.bsp.lbl',\n",
       " '170227AP_SK_17057_17116.bsp',\n",
       " '170227AP_SK_17057_17116.bsp.lbl',\n",
       " '170228R_SCPSE_16262_16282.bsp',\n",
       " '170228R_SCPSE_16262_16282.bsp.lbl',\n",
       " '170301R_SCPSE_16282_16310.bsp',\n",
       " '170301R_SCPSE_16282_16310.bsp.lbl',\n",
       " '170313AP_PE_17062_17116.bsp',\n",
       " '170313AP_PE_17062_17116.bsp.lbl',\n",
       " '170313AP_SCPSE_17062_17116.bsp',\n",
       " '170313AP_SCPSE_17062_17116.bsp.lbl',\n",
       " '170313AP_SE_17062_17116.bsp',\n",
       " '170313AP_SE_17062_17116.bsp.lbl',\n",
       " '170313AP_SK_17062_17116.bsp',\n",
       " '170313AP_SK_17062_17116.bsp.lbl',\n",
       " '170315R_SCPSE_16310_16329.bsp',\n",
       " '170315R_SCPSE_16310_16329.bsp.lbl',\n",
       " '170323R_SCPSE_16329_16363.bsp',\n",
       " '170323R_SCPSE_16329_16363.bsp.lbl',\n",
       " '170327AP_PE_17062_17116.bsp',\n",
       " '170327AP_PE_17062_17116.bsp.lbl',\n",
       " '170327AP_SCPSE_17062_17116.bsp',\n",
       " '170327AP_SCPSE_17062_17116.bsp.lbl',\n",
       " '170327AP_SE_17062_17116.bsp',\n",
       " '170327AP_SE_17062_17116.bsp.lbl',\n",
       " '170327AP_SK_17062_17116.bsp',\n",
       " '170327AP_SK_17062_17116.bsp.lbl',\n",
       " '170410AP_PE_17062_17116.bsp',\n",
       " '170410AP_PE_17062_17116.bsp.lbl',\n",
       " '170410AP_SCPSE_17062_17116.bsp',\n",
       " '170410AP_SCPSE_17062_17116.bsp.lbl',\n",
       " '170410AP_SE_17062_17116.bsp',\n",
       " '170410AP_SE_17062_17116.bsp.lbl',\n",
       " '170410AP_SK_17062_17116.bsp',\n",
       " '170410AP_SK_17062_17116.bsp.lbl',\n",
       " '170417AP_PE_17062_17116.bsp',\n",
       " '170417AP_PE_17062_17116.bsp.lbl',\n",
       " '170417AP_SCPSE_17062_17116.bsp',\n",
       " '170417AP_SCPSE_17062_17116.bsp.lbl',\n",
       " '170417AP_SE_17062_17116.bsp',\n",
       " '170417AP_SE_17062_17116.bsp.lbl',\n",
       " '170417AP_SK_17062_17116.bsp',\n",
       " '170417AP_SK_17062_17116.bsp.lbl',\n",
       " '170423AP_PE_17108_17258.bsp',\n",
       " '170423AP_PE_17108_17258.bsp.lbl',\n",
       " '170423AP_SCPSE_17108_17258.bsp',\n",
       " '170423AP_SCPSE_17108_17258.bsp.lbl',\n",
       " '170423AP_SE_17108_17258.bsp',\n",
       " '170423AP_SE_17108_17258.bsp.lbl',\n",
       " '170423AP_SK_17108_17258.bsp',\n",
       " '170423AP_SK_17108_17258.bsp.lbl',\n",
       " '170502AP_PE_17108_17135.bsp',\n",
       " '170502AP_PE_17108_17135.bsp.lbl',\n",
       " '170502AP_SCPSE_17108_17135.bsp',\n",
       " '170502AP_SCPSE_17108_17135.bsp.lbl',\n",
       " '170502AP_SE_17108_17135.bsp',\n",
       " '170502AP_SE_17108_17135.bsp.lbl',\n",
       " '170502AP_SK_17108_17135.bsp',\n",
       " '170502AP_SK_17108_17135.bsp.lbl',\n",
       " '170509AP_PE_17118_17258.bsp',\n",
       " '170509AP_PE_17118_17258.bsp.lbl',\n",
       " '170509AP_SCPSE_17118_17258.bsp',\n",
       " '170509AP_SCPSE_17118_17258.bsp.lbl',\n",
       " '170509AP_SE_17118_17258.bsp',\n",
       " '170509AP_SE_17118_17258.bsp.lbl',\n",
       " '170509AP_SK_17118_17258.bsp',\n",
       " '170509AP_SK_17118_17258.bsp.lbl',\n",
       " '170509R_SCPSE_16363_17061.bsp',\n",
       " '170509R_SCPSE_16363_17061.bsp.lbl',\n",
       " '170518AP_PE_17131_17258.bsp',\n",
       " '170518AP_PE_17131_17258.bsp.lbl',\n",
       " '170518AP_SCPSE_17131_17258.bsp',\n",
       " '170518AP_SCPSE_17131_17258.bsp.lbl',\n",
       " '170518AP_SE_17131_17258.bsp',\n",
       " '170518AP_SE_17131_17258.bsp.lbl',\n",
       " '170518AP_SK_17131_17258.bsp',\n",
       " '170518AP_SK_17131_17258.bsp.lbl',\n",
       " '170612AP_PE_17152_17258.bsp',\n",
       " '170612AP_PE_17152_17258.bsp.lbl',\n",
       " '170612AP_SCPSE_17152_17258.bsp',\n",
       " '170612AP_SCPSE_17152_17258.bsp.lbl',\n",
       " '170612AP_SE_17152_17258.bsp',\n",
       " '170612AP_SE_17152_17258.bsp.lbl',\n",
       " '170612AP_SK_17152_17258.bsp',\n",
       " '170612AP_SK_17152_17258.bsp.lbl',\n",
       " '170619AP_PE_17166_17258.bsp',\n",
       " '170619AP_PE_17166_17258.bsp.lbl',\n",
       " '170619AP_SCPSE_17166_17258.bsp',\n",
       " '170619AP_SCPSE_17166_17258.bsp.lbl',\n",
       " '170619AP_SE_17166_17258.bsp',\n",
       " '170619AP_SE_17166_17258.bsp.lbl',\n",
       " '170619AP_SK_17166_17258.bsp',\n",
       " '170619AP_SK_17166_17258.bsp.lbl',\n",
       " '170626AP_PE_17166_17258.bsp',\n",
       " '170626AP_PE_17166_17258.bsp.lbl',\n",
       " '170626AP_SCPSE_17166_17258.bsp',\n",
       " '170626AP_SCPSE_17166_17258.bsp.lbl',\n",
       " '170626AP_SE_17166_17258.bsp',\n",
       " '170626AP_SE_17166_17258.bsp.lbl',\n",
       " '170626AP_SK_17166_17258.bsp',\n",
       " '170626AP_SK_17166_17258.bsp.lbl']"
      ]
     },
     "execution_count": 21,
     "metadata": {},
     "output_type": "execute_result"
    }
   ],
   "source": [
    "[i for i in fnames if i.startswith('17')]"
   ]
  },
  {
   "cell_type": "code",
   "execution_count": 22,
   "metadata": {
    "ExecuteTime": {
     "end_time": "2017-06-26T22:44:28.315696Z",
     "start_time": "2017-06-26T22:44:28.286736Z"
    },
    "collapsed": true
   },
   "outputs": [],
   "source": [
    "hits = search.search_target()"
   ]
  },
  {
   "cell_type": "code",
   "execution_count": 23,
   "metadata": {
    "ExecuteTime": {
     "end_time": "2017-06-26T22:44:29.370310Z",
     "start_time": "2017-06-26T22:44:29.336920Z"
    }
   },
   "outputs": [
    {
     "data": {
      "text/plain": [
       "[]"
      ]
     },
     "execution_count": 23,
     "metadata": {},
     "output_type": "execute_result"
    }
   ],
   "source": [
    "hits"
   ]
  },
  {
   "cell_type": "code",
   "execution_count": 22,
   "metadata": {
    "ExecuteTime": {
     "end_time": "2017-05-15T18:35:43.583930Z",
     "start_time": "2017-05-15T18:35:43.554802Z"
    }
   },
   "outputs": [
    {
     "data": {
      "text/plain": [
       "'r'"
      ]
     },
     "execution_count": 22,
     "metadata": {},
     "output_type": "execute_result"
    }
   ],
   "source": [
    "CAS_CK_FNAME(hits[-1]).type"
   ]
  },
  {
   "cell_type": "code",
   "execution_count": 24,
   "metadata": {
    "ExecuteTime": {
     "end_time": "2017-06-26T22:44:33.645725Z",
     "start_time": "2017-06-26T22:44:33.614836Z"
    }
   },
   "outputs": [
    {
     "data": {
      "text/plain": [
       "''"
      ]
     },
     "execution_count": 24,
     "metadata": {},
     "output_type": "execute_result"
    }
   ],
   "source": [
    "find_highest_version(hits)"
   ]
  },
  {
   "cell_type": "code",
   "execution_count": 3,
   "metadata": {
    "ExecuteTime": {
     "end_time": "2017-05-15T18:31:25.728975Z",
     "start_time": "2017-05-15T18:31:23.485571Z"
    },
    "collapsed": true
   },
   "outputs": [],
   "source": [
    "ckftp.get_file('17082_17087ra.bc', '17082_17087ra.bc')"
   ]
  },
  {
   "cell_type": "code",
   "execution_count": 54,
   "metadata": {
    "ExecuteTime": {
     "end_time": "2017-05-15T18:11:44.584711Z",
     "start_time": "2017-05-15T18:11:44.409043Z"
    }
   },
   "outputs": [
    {
     "name": "stdout",
     "output_type": "stream",
     "text": [
      "total 13896\r\n",
      "-rw-r--r--@ 1 klay6683  2260  6920192 May 15 12:11 17082_17087ra.bc\r\n",
      "-rw-r--r--@ 1 klay6683  2260    14937 May 15 12:10 cassini_spice_kernels.ipynb\r\n",
      "-rw-r--r--@ 1 klay6683  2260    44105 May  9 23:33 downloading_index_files.ipynb\r\n",
      "-rw-r--r--@ 1 klay6683  2260    52641 May  8  2016 parse_roses_calendar.ipynb\r\n",
      "-rw-r--r--@ 1 klay6683  2260    33954 Jan 19 16:55 planet4_hirise_index_parsing.ipynb\r\n",
      "-rw-r--r--@ 1 klay6683  2260     2294 Dec 20 13:36 planet4_metadata.csv\r\n",
      "-rw-r--r--@ 1 klay6683  2260    34880 Apr 20  2015 planetary constants.ipynb\r\n"
     ]
    }
   ],
   "source": []
  },
  {
   "cell_type": "code",
   "execution_count": null,
   "metadata": {
    "collapsed": true
   },
   "outputs": [],
   "source": []
  }
 ],
 "metadata": {
  "kernelspec": {
   "display_name": "Python [conda env:stable]",
   "language": "python",
   "name": "conda-env-stable-py"
  },
  "language_info": {
   "codemirror_mode": {
    "name": "ipython",
    "version": 3
   },
   "file_extension": ".py",
   "mimetype": "text/x-python",
   "name": "python",
   "nbconvert_exporter": "python",
   "pygments_lexer": "ipython3",
   "version": "3.6.1"
  },
  "toc": {
   "colors": {
    "hover_highlight": "#DAA520",
    "navigate_num": "#000000",
    "navigate_text": "#333333",
    "running_highlight": "#FF0000",
    "selected_highlight": "#FFD700",
    "sidebar_border": "#EEEEEE",
    "wrapper_background": "#FFFFFF"
   },
   "moveMenuLeft": true,
   "nav_menu": {
    "height": "66px",
    "width": "252px"
   },
   "navigate_menu": true,
   "number_sections": false,
   "sideBar": false,
   "threshold": 4,
   "toc_cell": false,
   "toc_section_display": "block",
   "toc_window_display": false,
   "widenNotebook": false
  }
 },
 "nbformat": 4,
 "nbformat_minor": 2
}
