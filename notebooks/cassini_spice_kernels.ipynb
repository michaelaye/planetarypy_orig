{
 "cells": [
  {
   "cell_type": "markdown",
   "metadata": {
    "run_control": {
     "frozen": false,
     "read_only": false
    }
   },
   "source": [
    "# Cassini SPICE kernels downloader"
   ]
  },
  {
   "cell_type": "code",
   "execution_count": 1,
   "metadata": {
    "ExecuteTime": {
     "end_time": "2017-05-17T04:26:41.847712Z",
     "start_time": "2017-05-17T04:26:40.971797Z"
    },
    "collapsed": true,
    "run_control": {
     "frozen": false,
     "read_only": false
    }
   },
   "outputs": [],
   "source": [
    "from planetpy.spicekernels.cassini import *\n",
    "from planetpy.spicekernels.general import *\n",
    "from astropy.time import Time"
   ]
  },
  {
   "cell_type": "code",
   "execution_count": 2,
   "metadata": {
    "ExecuteTime": {
     "end_time": "2017-05-17T04:26:42.999292Z",
     "start_time": "2017-05-17T04:26:42.632714Z"
    },
    "collapsed": true,
    "run_control": {
     "frozen": false,
     "read_only": false
    }
   },
   "outputs": [],
   "source": [
    "spk = CASSINI_KERNEL('spk')"
   ]
  },
  {
   "cell_type": "code",
   "execution_count": 3,
   "metadata": {
    "ExecuteTime": {
     "end_time": "2017-05-17T04:26:57.829451Z",
     "start_time": "2017-05-17T04:26:54.857339Z"
    },
    "collapsed": true
   },
   "outputs": [],
   "source": [
    "spk.get_file('170417AP_SCPSE_17062_17116.bsp')"
   ]
  },
  {
   "cell_type": "code",
   "execution_count": 3,
   "metadata": {
    "ExecuteTime": {
     "end_time": "2017-05-17T01:06:25.903469Z",
     "start_time": "2017-05-17T01:06:25.337520Z"
    },
    "collapsed": true,
    "run_control": {
     "frozen": false,
     "read_only": false
    }
   },
   "outputs": [],
   "source": [
    "fnames = spk.filenames"
   ]
  },
  {
   "cell_type": "code",
   "execution_count": 4,
   "metadata": {
    "ExecuteTime": {
     "end_time": "2017-05-17T01:07:13.069722Z",
     "start_time": "2017-05-17T01:07:13.034348Z"
    },
    "collapsed": true,
    "run_control": {
     "frozen": false,
     "read_only": false
    }
   },
   "outputs": [],
   "source": [
    "tstr = '2017-03-27 14:30'"
   ]
  },
  {
   "cell_type": "code",
   "execution_count": 19,
   "metadata": {
    "ExecuteTime": {
     "end_time": "2017-05-17T01:34:42.286276Z",
     "start_time": "2017-05-17T01:34:42.251226Z"
    },
    "run_control": {
     "frozen": false,
     "read_only": false
    }
   },
   "outputs": [
    {
     "data": {
      "text/plain": [
       "'17086'"
      ]
     },
     "execution_count": 19,
     "metadata": {},
     "output_type": "execute_result"
    }
   ],
   "source": [
    "tstr2casdate(tstr)"
   ]
  },
  {
   "cell_type": "code",
   "execution_count": 20,
   "metadata": {
    "ExecuteTime": {
     "end_time": "2017-05-17T04:23:13.733347Z",
     "start_time": "2017-05-17T04:23:11.640423Z"
    },
    "run_control": {
     "frozen": false,
     "read_only": false
    }
   },
   "outputs": [
    {
     "data": {
      "text/plain": [
       "['090721AP_SCPSE_09198_17265.bsp',\n",
       " '090721AP_SK_09198_17265.bsp',\n",
       " '091005AP_SCPSE_09248_17265.bsp',\n",
       " '091005AP_SK_09248_17265.bsp',\n",
       " '110818AP_SCPSE_11175_17265.bsp',\n",
       " '110818AP_SK_11175_17265.bsp',\n",
       " '140114AP_SCPSE_13290_17265.bsp',\n",
       " '140114AP_SK_13290_17265.bsp',\n",
       " '150901AP_SCPSE_13290_17272.bsp',\n",
       " '150901AP_SK_13290_17272.bsp',\n",
       " '161202AP_SCPSE_16331_17116.bsp',\n",
       " '161202AP_SK_16331_17116.bsp',\n",
       " '161220AP_SCPSE_16357_17116.bsp',\n",
       " '161220AP_SK_16357_17116.bsp',\n",
       " '161230AP_SCPSE_16364_17116.bsp',\n",
       " '161230AP_SK_16364_17116.bsp',\n",
       " '170109AP_SCPSE_17007_17116.bsp',\n",
       " '170109AP_SK_17007_17116.bsp',\n",
       " '170123AP_SCPSE_17007_17116.bsp',\n",
       " '170123AP_SK_17007_17116.bsp',\n",
       " '170130AP_SCPSE_17027_17116.bsp',\n",
       " '170130AP_SK_17027_17116.bsp',\n",
       " '170213AP_SCPSE_17027_17116.bsp',\n",
       " '170213AP_SK_17027_17116.bsp',\n",
       " '170216AP_SCPSE_17046_17116.bsp',\n",
       " '170216AP_SK_17046_17116.bsp',\n",
       " '170227AP_SCPSE_17057_17116.bsp',\n",
       " '170227AP_SK_17057_17116.bsp',\n",
       " '170313AP_SCPSE_17062_17116.bsp',\n",
       " '170313AP_SK_17062_17116.bsp',\n",
       " '170327AP_SCPSE_17062_17116.bsp',\n",
       " '170327AP_SK_17062_17116.bsp',\n",
       " '170410AP_SCPSE_17062_17116.bsp',\n",
       " '170410AP_SK_17062_17116.bsp',\n",
       " '170417AP_SCPSE_17062_17116.bsp',\n",
       " '170417AP_SK_17062_17116.bsp']"
      ]
     },
     "execution_count": 20,
     "metadata": {},
     "output_type": "execute_result"
    }
   ],
   "source": [
    "spksearch(tstr, fnames)"
   ]
  },
  {
   "cell_type": "code",
   "execution_count": 21,
   "metadata": {
    "ExecuteTime": {
     "end_time": "2017-05-17T04:24:11.416522Z",
     "start_time": "2017-05-17T04:24:10.818148Z"
    },
    "collapsed": true,
    "run_control": {
     "frozen": false,
     "read_only": false
    }
   },
   "outputs": [],
   "source": [
    "spk = CASSINI_KERNEL('spk')"
   ]
  },
  {
   "cell_type": "code",
   "execution_count": 22,
   "metadata": {
    "ExecuteTime": {
     "end_time": "2017-05-17T04:24:20.540267Z",
     "start_time": "2017-05-17T04:24:20.478926Z"
    },
    "run_control": {
     "frozen": false,
     "read_only": false
    }
   },
   "outputs": [
    {
     "ename": "FileNotFoundError",
     "evalue": "[Errno 2] No such file or directory: '/Volumes/USB128II/spice/UVIS_data/kernels/spk/170417AP_SCPSE_17062_17116.bsp'",
     "output_type": "error",
     "traceback": [
      "\u001b[0;31m---------------------------------------------------------------------------\u001b[0m",
      "\u001b[0;31mFileNotFoundError\u001b[0m                         Traceback (most recent call last)",
      "\u001b[0;32m<ipython-input-22-166d68f00cc9>\u001b[0m in \u001b[0;36m<module>\u001b[0;34m()\u001b[0m\n\u001b[0;32m----> 1\u001b[0;31m \u001b[0mspk\u001b[0m\u001b[0;34m.\u001b[0m\u001b[0mget_file\u001b[0m\u001b[0;34m(\u001b[0m\u001b[0;34m'170417AP_SCPSE_17062_17116.bsp'\u001b[0m\u001b[0;34m)\u001b[0m\u001b[0;34m\u001b[0m\u001b[0m\n\u001b[0m",
      "\u001b[0;32m/Users/klay6683/Dropbox/src/planetpy/planetpy/spicekernels/general.py\u001b[0m in \u001b[0;36mget_file\u001b[0;34m(self, remote_name, local_name)\u001b[0m\n\u001b[1;32m     32\u001b[0m             \u001b[0mlocal_name\u001b[0m \u001b[0;34m=\u001b[0m \u001b[0mremote_name\u001b[0m\u001b[0;34m\u001b[0m\u001b[0m\n\u001b[1;32m     33\u001b[0m         \u001b[0mlocal_path\u001b[0m \u001b[0;34m=\u001b[0m \u001b[0mstr\u001b[0m\u001b[0;34m(\u001b[0m\u001b[0mself\u001b[0m\u001b[0;34m.\u001b[0m\u001b[0mlocal_dir\u001b[0m \u001b[0;34m/\u001b[0m \u001b[0mPath\u001b[0m\u001b[0;34m(\u001b[0m\u001b[0mself\u001b[0m\u001b[0;34m.\u001b[0m\u001b[0mkernel_dir\u001b[0m\u001b[0;34m)\u001b[0m \u001b[0;34m/\u001b[0m \u001b[0mlocal_name\u001b[0m\u001b[0;34m)\u001b[0m\u001b[0;34m\u001b[0m\u001b[0m\n\u001b[0;32m---> 34\u001b[0;31m         \u001b[0mself\u001b[0m\u001b[0;34m.\u001b[0m\u001b[0mftp\u001b[0m\u001b[0;34m.\u001b[0m\u001b[0mretrbinary\u001b[0m\u001b[0;34m(\u001b[0m\u001b[0;34mf\"RETR {remote_name}\"\u001b[0m\u001b[0;34m,\u001b[0m \u001b[0mopen\u001b[0m\u001b[0;34m(\u001b[0m\u001b[0;34mf\"{local_path}\"\u001b[0m\u001b[0;34m,\u001b[0m \u001b[0;34m\"wb\"\u001b[0m\u001b[0;34m)\u001b[0m\u001b[0;34m.\u001b[0m\u001b[0mwrite\u001b[0m\u001b[0;34m)\u001b[0m\u001b[0;34m\u001b[0m\u001b[0m\n\u001b[0m",
      "\u001b[0;31mFileNotFoundError\u001b[0m: [Errno 2] No such file or directory: '/Volumes/USB128II/spice/UVIS_data/kernels/spk/170417AP_SCPSE_17062_17116.bsp'"
     ]
    }
   ],
   "source": [
    "spk.get_file('170417AP_SCPSE_17062_17116.bsp')"
   ]
  },
  {
   "cell_type": "code",
   "execution_count": 12,
   "metadata": {
    "ExecuteTime": {
     "end_time": "2017-05-17T00:28:34.014660Z",
     "start_time": "2017-05-17T00:28:33.317633Z"
    },
    "collapsed": true,
    "run_control": {
     "frozen": false,
     "read_only": false
    }
   },
   "outputs": [],
   "source": [
    "casfname = SPK_FNAME(spk.filenames[0])"
   ]
  },
  {
   "cell_type": "code",
   "execution_count": 13,
   "metadata": {
    "ExecuteTime": {
     "end_time": "2017-05-17T00:28:34.061432Z",
     "start_time": "2017-05-17T00:28:34.018996Z"
    },
    "run_control": {
     "frozen": false,
     "read_only": false
    }
   },
   "outputs": [
    {
     "data": {
      "text/plain": [
       "'000202R_SK_LP0_V1P32.bsp'"
      ]
     },
     "execution_count": 13,
     "metadata": {},
     "output_type": "execute_result"
    }
   ],
   "source": [
    "casfname.fname"
   ]
  },
  {
   "cell_type": "code",
   "execution_count": 14,
   "metadata": {
    "ExecuteTime": {
     "end_time": "2017-05-17T00:28:35.192059Z",
     "start_time": "2017-05-17T00:28:35.135202Z"
    },
    "run_control": {
     "frozen": false,
     "read_only": false
    }
   },
   "outputs": [
    {
     "data": {
      "text/plain": [
       "datetime.datetime(2000, 2, 2, 0, 0)"
      ]
     },
     "execution_count": 14,
     "metadata": {},
     "output_type": "execute_result"
    }
   ],
   "source": [
    "casfname.delivery_date"
   ]
  },
  {
   "cell_type": "code",
   "execution_count": 15,
   "metadata": {
    "ExecuteTime": {
     "end_time": "2017-05-17T00:28:36.053064Z",
     "start_time": "2017-05-17T00:28:36.004696Z"
    },
    "run_control": {
     "frozen": false,
     "read_only": false
    }
   },
   "outputs": [
    {
     "data": {
      "text/plain": [
       "'SK'"
      ]
     },
     "execution_count": 15,
     "metadata": {},
     "output_type": "execute_result"
    }
   ],
   "source": [
    "casfname.description"
   ]
  },
  {
   "cell_type": "code",
   "execution_count": 16,
   "metadata": {
    "ExecuteTime": {
     "end_time": "2017-05-17T00:28:36.606777Z",
     "start_time": "2017-05-17T00:28:36.565263Z"
    },
    "run_control": {
     "frozen": false,
     "read_only": false
    }
   },
   "outputs": [
    {
     "data": {
      "text/plain": [
       "['Launch', 'after swingby', '0 days']"
      ]
     },
     "execution_count": 16,
     "metadata": {},
     "output_type": "execute_result"
    }
   ],
   "source": [
    "casfname.start_event"
   ]
  },
  {
   "cell_type": "code",
   "execution_count": 17,
   "metadata": {
    "ExecuteTime": {
     "end_time": "2017-05-17T00:28:37.114712Z",
     "start_time": "2017-05-17T00:28:37.078890Z"
    },
    "run_control": {
     "frozen": false,
     "read_only": false
    }
   },
   "outputs": [
    {
     "data": {
      "text/plain": [
       "['Venus 1', 'after swingby', '32 days']"
      ]
     },
     "execution_count": 17,
     "metadata": {},
     "output_type": "execute_result"
    }
   ],
   "source": [
    "casfname.end_event"
   ]
  },
  {
   "cell_type": "code",
   "execution_count": 18,
   "metadata": {
    "ExecuteTime": {
     "end_time": "2017-05-17T00:28:38.186867Z",
     "start_time": "2017-05-17T00:28:38.149155Z"
    },
    "run_control": {
     "frozen": false,
     "read_only": false
    }
   },
   "outputs": [
    {
     "data": {
      "text/plain": [
       "'000202R_SK_LP0_V1P32.bsp'"
      ]
     },
     "execution_count": 18,
     "metadata": {},
     "output_type": "execute_result"
    }
   ],
   "source": [
    "casfname.fname"
   ]
  },
  {
   "cell_type": "code",
   "execution_count": 19,
   "metadata": {
    "ExecuteTime": {
     "end_time": "2017-05-17T00:28:39.119537Z",
     "start_time": "2017-05-17T00:28:39.085748Z"
    },
    "run_control": {
     "frozen": false,
     "read_only": false
    }
   },
   "outputs": [
    {
     "data": {
      "text/plain": [
       "'orbiter S/C trajectory'"
      ]
     },
     "execution_count": 19,
     "metadata": {},
     "output_type": "execute_result"
    }
   ],
   "source": [
    "casfname.long_description"
   ]
  },
  {
   "cell_type": "code",
   "execution_count": null,
   "metadata": {
    "collapsed": true,
    "run_control": {
     "frozen": false,
     "read_only": false
    }
   },
   "outputs": [],
   "source": []
  },
  {
   "cell_type": "code",
   "execution_count": null,
   "metadata": {
    "collapsed": true,
    "run_control": {
     "frozen": false,
     "read_only": false
    }
   },
   "outputs": [],
   "source": []
  },
  {
   "cell_type": "code",
   "execution_count": 20,
   "metadata": {
    "ExecuteTime": {
     "end_time": "2017-05-17T00:28:55.426755Z",
     "start_time": "2017-05-17T00:28:55.073809Z"
    },
    "collapsed": true,
    "run_control": {
     "frozen": false,
     "read_only": false
    }
   },
   "outputs": [],
   "source": [
    "fk = CASSINI_KERNEL('fk')"
   ]
  },
  {
   "cell_type": "code",
   "execution_count": 11,
   "metadata": {
    "ExecuteTime": {
     "end_time": "2017-05-15T18:35:13.307323Z",
     "start_time": "2017-05-15T18:35:12.726155Z"
    },
    "collapsed": true,
    "run_control": {
     "frozen": false,
     "read_only": false
    },
    "scrolled": false
   },
   "outputs": [],
   "source": [
    "fnames = ckftp.filenames"
   ]
  },
  {
   "cell_type": "code",
   "execution_count": 14,
   "metadata": {
    "ExecuteTime": {
     "end_time": "2017-05-15T18:35:24.942780Z",
     "start_time": "2017-05-15T18:35:24.911263Z"
    },
    "run_control": {
     "frozen": false,
     "read_only": false
    }
   },
   "outputs": [
    {
     "data": {
      "text/plain": [
       "datetime.datetime(2017, 3, 27, 0, 0)"
      ]
     },
     "execution_count": 14,
     "metadata": {},
     "output_type": "execute_result"
    }
   ],
   "source": [
    "casdate2dt(17086)"
   ]
  },
  {
   "cell_type": "code",
   "execution_count": 15,
   "metadata": {
    "ExecuteTime": {
     "end_time": "2017-05-15T18:35:25.475897Z",
     "start_time": "2017-05-15T18:35:25.448510Z"
    },
    "collapsed": true,
    "run_control": {
     "frozen": false,
     "read_only": false
    }
   },
   "outputs": [],
   "source": []
  },
  {
   "cell_type": "code",
   "execution_count": 16,
   "metadata": {
    "ExecuteTime": {
     "end_time": "2017-05-15T18:35:25.805821Z",
     "start_time": "2017-05-15T18:35:25.771488Z"
    },
    "run_control": {
     "frozen": false,
     "read_only": false
    }
   },
   "outputs": [
    {
     "data": {
      "text/plain": [
       "'17086'"
      ]
     },
     "execution_count": 16,
     "metadata": {},
     "output_type": "execute_result"
    }
   ],
   "source": [
    "tstr2casdate(tstr)"
   ]
  },
  {
   "cell_type": "code",
   "execution_count": 28,
   "metadata": {
    "ExecuteTime": {
     "end_time": "2017-05-15T18:42:08.826054Z",
     "start_time": "2017-05-15T18:42:02.537558Z"
    },
    "run_control": {
     "frozen": false,
     "read_only": false
    }
   },
   "outputs": [
    {
     "name": "stdout",
     "output_type": "stream",
     "text": [
      "ck\n",
      "spk\n"
     ]
    },
    {
     "ename": "IsADirectoryError",
     "evalue": "[Errno 21] Is a directory: '/Volumes/USB128II/spice/UVIS_data/kernels/spk'",
     "output_type": "error",
     "traceback": [
      "\u001b[0;31m---------------------------------------------------------------------------\u001b[0m",
      "\u001b[0;31mIsADirectoryError\u001b[0m                         Traceback (most recent call last)",
      "\u001b[0;32m<ipython-input-28-60eea792325f>\u001b[0m in \u001b[0;36m<module>\u001b[0;34m()\u001b[0m\n\u001b[1;32m      6\u001b[0m     \u001b[0mhits\u001b[0m \u001b[0;34m=\u001b[0m \u001b[0msearch\u001b[0m\u001b[0;34m.\u001b[0m\u001b[0msearch_target\u001b[0m\u001b[0;34m(\u001b[0m\u001b[0;34m)\u001b[0m\u001b[0;34m\u001b[0m\u001b[0m\n\u001b[1;32m      7\u001b[0m     \u001b[0mto_DL\u001b[0m \u001b[0;34m=\u001b[0m \u001b[0mfind_highest_version\u001b[0m\u001b[0;34m(\u001b[0m\u001b[0mhits\u001b[0m\u001b[0;34m)\u001b[0m\u001b[0;34m\u001b[0m\u001b[0m\n\u001b[0;32m----> 8\u001b[0;31m     \u001b[0mkernel\u001b[0m\u001b[0;34m.\u001b[0m\u001b[0mget_file\u001b[0m\u001b[0;34m(\u001b[0m\u001b[0mto_DL\u001b[0m\u001b[0;34m)\u001b[0m\u001b[0;34m\u001b[0m\u001b[0m\n\u001b[0m",
      "\u001b[0;32m<ipython-input-27-3cdb83b51857>\u001b[0m in \u001b[0;36mget_file\u001b[0;34m(self, remote_name, local_name)\u001b[0m\n\u001b[1;32m     32\u001b[0m             \u001b[0mlocal_name\u001b[0m \u001b[0;34m=\u001b[0m \u001b[0mremote_name\u001b[0m\u001b[0;34m\u001b[0m\u001b[0m\n\u001b[1;32m     33\u001b[0m         \u001b[0mlocal_path\u001b[0m \u001b[0;34m=\u001b[0m \u001b[0mstr\u001b[0m\u001b[0;34m(\u001b[0m\u001b[0mself\u001b[0m\u001b[0;34m.\u001b[0m\u001b[0mlocal_dir\u001b[0m \u001b[0;34m/\u001b[0m \u001b[0mPath\u001b[0m\u001b[0;34m(\u001b[0m\u001b[0mself\u001b[0m\u001b[0;34m.\u001b[0m\u001b[0mkernel_dir\u001b[0m\u001b[0;34m)\u001b[0m \u001b[0;34m/\u001b[0m \u001b[0mlocal_name\u001b[0m\u001b[0;34m)\u001b[0m\u001b[0;34m\u001b[0m\u001b[0m\n\u001b[0;32m---> 34\u001b[0;31m         \u001b[0mself\u001b[0m\u001b[0;34m.\u001b[0m\u001b[0mftp\u001b[0m\u001b[0;34m.\u001b[0m\u001b[0mretrbinary\u001b[0m\u001b[0;34m(\u001b[0m\u001b[0;34mf\"RETR {remote_name}\"\u001b[0m\u001b[0;34m,\u001b[0m \u001b[0mopen\u001b[0m\u001b[0;34m(\u001b[0m\u001b[0;34mf\"{local_path}\"\u001b[0m\u001b[0;34m,\u001b[0m \u001b[0;34m\"wb\"\u001b[0m\u001b[0;34m)\u001b[0m\u001b[0;34m.\u001b[0m\u001b[0mwrite\u001b[0m\u001b[0;34m)\u001b[0m\u001b[0;34m\u001b[0m\u001b[0m\n\u001b[0m\u001b[1;32m     35\u001b[0m \u001b[0;34m\u001b[0m\u001b[0m\n\u001b[1;32m     36\u001b[0m \u001b[0;34m\u001b[0m\u001b[0m\n",
      "\u001b[0;31mIsADirectoryError\u001b[0m: [Errno 21] Is a directory: '/Volumes/USB128II/spice/UVIS_data/kernels/spk'"
     ]
    }
   ],
   "source": [
    "for ktype in ['ck','spk','fk','ik','lsk',' pck', 'sclk']:\n",
    "    print(ktype)\n",
    "    kernel = CASSINI_KERNEL(ktype)\n",
    "    fnames = kernel.filenames\n",
    "    search = CKSEARCH(tstr, fnames)\n",
    "    hits = search.search_target()\n",
    "    to_DL = find_highest_version(hits)\n",
    "    kernel.get_file(to_DL)"
   ]
  },
  {
   "cell_type": "code",
   "execution_count": 41,
   "metadata": {
    "ExecuteTime": {
     "end_time": "2017-05-15T18:50:28.704285Z",
     "start_time": "2017-05-15T18:50:28.004846Z"
    },
    "collapsed": true,
    "run_control": {
     "frozen": false,
     "read_only": false
    }
   },
   "outputs": [],
   "source": [
    "spk = CASSINI_KERNEL('spk')\n",
    "ck = CASSINI_KERNEL('ck')"
   ]
  },
  {
   "cell_type": "code",
   "execution_count": 32,
   "metadata": {
    "ExecuteTime": {
     "end_time": "2017-05-15T18:43:54.072768Z",
     "start_time": "2017-05-15T18:43:53.515745Z"
    },
    "collapsed": true,
    "run_control": {
     "frozen": false,
     "read_only": false
    },
    "scrolled": false
   },
   "outputs": [],
   "source": [
    "search = CKSEARCH(tstr, spk.filenames)"
   ]
  },
  {
   "cell_type": "code",
   "execution_count": 34,
   "metadata": {
    "ExecuteTime": {
     "end_time": "2017-05-15T18:44:14.757816Z",
     "start_time": "2017-05-15T18:44:14.186390Z"
    },
    "collapsed": true,
    "run_control": {
     "frozen": false,
     "read_only": false
    }
   },
   "outputs": [],
   "source": [
    "fnames = spk.filenames"
   ]
  },
  {
   "cell_type": "code",
   "execution_count": 37,
   "metadata": {
    "ExecuteTime": {
     "end_time": "2017-05-15T18:44:46.589998Z",
     "start_time": "2017-05-15T18:44:46.557867Z"
    },
    "run_control": {
     "frozen": false,
     "read_only": false
    },
    "scrolled": true
   },
   "outputs": [
    {
     "data": {
      "text/plain": [
       "['170109AP_PE_17007_17116.bsp',\n",
       " '170109AP_PE_17007_17116.bsp.lbl',\n",
       " '170109AP_SCPSE_17007_17116.bsp',\n",
       " '170109AP_SCPSE_17007_17116.bsp.lbl',\n",
       " '170109AP_SE_17007_17116.bsp',\n",
       " '170109AP_SE_17007_17116.bsp.lbl',\n",
       " '170109AP_SK_17007_17116.bsp',\n",
       " '170109AP_SK_17007_17116.bsp.lbl',\n",
       " '170123AP_PE_17007_17116.bsp',\n",
       " '170123AP_PE_17007_17116.bsp.lbl',\n",
       " '170123AP_SCPSE_17007_17116.bsp',\n",
       " '170123AP_SCPSE_17007_17116.bsp.lbl',\n",
       " '170123AP_SE_17007_17116.bsp',\n",
       " '170123AP_SE_17007_17116.bsp.lbl',\n",
       " '170123AP_SK_17007_17116.bsp',\n",
       " '170123AP_SK_17007_17116.bsp.lbl',\n",
       " '170130AP_PE_17027_17116.bsp',\n",
       " '170130AP_PE_17027_17116.bsp.lbl',\n",
       " '170130AP_SCPSE_17027_17116.bsp',\n",
       " '170130AP_SCPSE_17027_17116.bsp.lbl',\n",
       " '170130AP_SE_17027_17116.bsp',\n",
       " '170130AP_SE_17027_17116.bsp.lbl',\n",
       " '170130AP_SK_17027_17116.bsp',\n",
       " '170130AP_SK_17027_17116.bsp.lbl',\n",
       " '170213AP_PE_17027_17116.bsp',\n",
       " '170213AP_PE_17027_17116.bsp.lbl',\n",
       " '170213AP_SCPSE_17027_17116.bsp',\n",
       " '170213AP_SCPSE_17027_17116.bsp.lbl',\n",
       " '170213AP_SE_17027_17116.bsp',\n",
       " '170213AP_SE_17027_17116.bsp.lbl',\n",
       " '170213AP_SK_17027_17116.bsp',\n",
       " '170213AP_SK_17027_17116.bsp.lbl',\n",
       " '170216AP_PE_17046_17116.bsp',\n",
       " '170216AP_PE_17046_17116.bsp.lbl',\n",
       " '170216AP_SCPSE_17046_17116.bsp',\n",
       " '170216AP_SCPSE_17046_17116.bsp.lbl',\n",
       " '170216AP_SE_17046_17116.bsp',\n",
       " '170216AP_SE_17046_17116.bsp.lbl',\n",
       " '170216AP_SK_17046_17116.bsp',\n",
       " '170216AP_SK_17046_17116.bsp.lbl',\n",
       " '170227AP_PE_17057_17116.bsp',\n",
       " '170227AP_PE_17057_17116.bsp.lbl',\n",
       " '170227AP_SCPSE_17057_17116.bsp',\n",
       " '170227AP_SCPSE_17057_17116.bsp.lbl',\n",
       " '170227AP_SE_17057_17116.bsp',\n",
       " '170227AP_SE_17057_17116.bsp.lbl',\n",
       " '170227AP_SK_17057_17116.bsp',\n",
       " '170227AP_SK_17057_17116.bsp.lbl',\n",
       " '170228R_SCPSE_16262_16282.bsp',\n",
       " '170228R_SCPSE_16262_16282.bsp.lbl',\n",
       " '170301R_SCPSE_16282_16310.bsp',\n",
       " '170301R_SCPSE_16282_16310.bsp.lbl',\n",
       " '170313AP_PE_17062_17116.bsp',\n",
       " '170313AP_PE_17062_17116.bsp.lbl',\n",
       " '170313AP_SCPSE_17062_17116.bsp',\n",
       " '170313AP_SCPSE_17062_17116.bsp.lbl',\n",
       " '170313AP_SE_17062_17116.bsp',\n",
       " '170313AP_SE_17062_17116.bsp.lbl',\n",
       " '170313AP_SK_17062_17116.bsp',\n",
       " '170313AP_SK_17062_17116.bsp.lbl',\n",
       " '170315R_SCPSE_16310_16329.bsp',\n",
       " '170315R_SCPSE_16310_16329.bsp.lbl',\n",
       " '170323R_SCPSE_16329_16363.bsp',\n",
       " '170323R_SCPSE_16329_16363.bsp.lbl',\n",
       " '170327AP_PE_17062_17116.bsp',\n",
       " '170327AP_PE_17062_17116.bsp.lbl',\n",
       " '170327AP_SCPSE_17062_17116.bsp',\n",
       " '170327AP_SCPSE_17062_17116.bsp.lbl',\n",
       " '170327AP_SE_17062_17116.bsp',\n",
       " '170327AP_SE_17062_17116.bsp.lbl',\n",
       " '170327AP_SK_17062_17116.bsp',\n",
       " '170327AP_SK_17062_17116.bsp.lbl',\n",
       " '170410AP_PE_17062_17116.bsp',\n",
       " '170410AP_PE_17062_17116.bsp.lbl',\n",
       " '170410AP_SCPSE_17062_17116.bsp',\n",
       " '170410AP_SCPSE_17062_17116.bsp.lbl',\n",
       " '170410AP_SE_17062_17116.bsp',\n",
       " '170410AP_SE_17062_17116.bsp.lbl',\n",
       " '170410AP_SK_17062_17116.bsp',\n",
       " '170410AP_SK_17062_17116.bsp.lbl',\n",
       " '170417AP_PE_17062_17116.bsp',\n",
       " '170417AP_PE_17062_17116.bsp.lbl',\n",
       " '170417AP_SCPSE_17062_17116.bsp',\n",
       " '170417AP_SCPSE_17062_17116.bsp.lbl',\n",
       " '170417AP_SE_17062_17116.bsp',\n",
       " '170417AP_SE_17062_17116.bsp.lbl',\n",
       " '170417AP_SK_17062_17116.bsp',\n",
       " '170417AP_SK_17062_17116.bsp.lbl',\n",
       " '170423AP_PE_17108_17258.bsp',\n",
       " '170423AP_PE_17108_17258.bsp.lbl',\n",
       " '170423AP_SCPSE_17108_17258.bsp',\n",
       " '170423AP_SCPSE_17108_17258.bsp.lbl',\n",
       " '170423AP_SE_17108_17258.bsp',\n",
       " '170423AP_SE_17108_17258.bsp.lbl',\n",
       " '170423AP_SK_17108_17258.bsp',\n",
       " '170423AP_SK_17108_17258.bsp.lbl',\n",
       " '170502AP_PE_17108_17135.bsp',\n",
       " '170502AP_PE_17108_17135.bsp.lbl',\n",
       " '170502AP_SCPSE_17108_17135.bsp',\n",
       " '170502AP_SCPSE_17108_17135.bsp.lbl',\n",
       " '170502AP_SE_17108_17135.bsp',\n",
       " '170502AP_SE_17108_17135.bsp.lbl',\n",
       " '170502AP_SK_17108_17135.bsp',\n",
       " '170502AP_SK_17108_17135.bsp.lbl',\n",
       " '170509AP_PE_17118_17258.bsp',\n",
       " '170509AP_PE_17118_17258.bsp.lbl',\n",
       " '170509AP_SCPSE_17118_17258.bsp',\n",
       " '170509AP_SCPSE_17118_17258.bsp.lbl',\n",
       " '170509AP_SE_17118_17258.bsp',\n",
       " '170509AP_SE_17118_17258.bsp.lbl',\n",
       " '170509AP_SK_17118_17258.bsp',\n",
       " '170509AP_SK_17118_17258.bsp.lbl',\n",
       " '170509R_SCPSE_16363_17061.bsp',\n",
       " '170509R_SCPSE_16363_17061.bsp.lbl']"
      ]
     },
     "execution_count": 37,
     "metadata": {},
     "output_type": "execute_result"
    }
   ],
   "source": [
    "[i for i in fnames if i.startswith('17')]"
   ]
  },
  {
   "cell_type": "code",
   "execution_count": 18,
   "metadata": {
    "ExecuteTime": {
     "end_time": "2017-05-15T18:35:28.509706Z",
     "start_time": "2017-05-15T18:35:27.108331Z"
    },
    "collapsed": true,
    "run_control": {
     "frozen": false,
     "read_only": false
    }
   },
   "outputs": [],
   "source": [
    "hits = search.search_target()"
   ]
  },
  {
   "cell_type": "code",
   "execution_count": 19,
   "metadata": {
    "ExecuteTime": {
     "end_time": "2017-05-15T18:35:29.033938Z",
     "start_time": "2017-05-15T18:35:29.000477Z"
    },
    "run_control": {
     "frozen": false,
     "read_only": false
    }
   },
   "outputs": [
    {
     "data": {
      "text/plain": [
       "['17034_17104pa_waypoint.bc',\n",
       " '17034_17104pd_port2.bc',\n",
       " '17034_17104pe_port3.bc',\n",
       " '17034_17104pf_psiv.bc',\n",
       " '17082_17087ra.bc']"
      ]
     },
     "execution_count": 19,
     "metadata": {},
     "output_type": "execute_result"
    }
   ],
   "source": [
    "hits"
   ]
  },
  {
   "cell_type": "code",
   "execution_count": 22,
   "metadata": {
    "ExecuteTime": {
     "end_time": "2017-05-15T18:35:43.583930Z",
     "start_time": "2017-05-15T18:35:43.554802Z"
    },
    "run_control": {
     "frozen": false,
     "read_only": false
    }
   },
   "outputs": [
    {
     "data": {
      "text/plain": [
       "'r'"
      ]
     },
     "execution_count": 22,
     "metadata": {},
     "output_type": "execute_result"
    }
   ],
   "source": [
    "CAS_CK_FNAME(hits[-1]).type"
   ]
  },
  {
   "cell_type": "code",
   "execution_count": 26,
   "metadata": {
    "ExecuteTime": {
     "end_time": "2017-05-15T18:37:58.206071Z",
     "start_time": "2017-05-15T18:37:58.169073Z"
    },
    "run_control": {
     "frozen": false,
     "read_only": false
    }
   },
   "outputs": [
    {
     "data": {
      "text/plain": [
       "'17082_17087ra.bc'"
      ]
     },
     "execution_count": 26,
     "metadata": {},
     "output_type": "execute_result"
    }
   ],
   "source": [
    "find_highest_version(hits)"
   ]
  },
  {
   "cell_type": "code",
   "execution_count": 3,
   "metadata": {
    "ExecuteTime": {
     "end_time": "2017-05-15T18:31:25.728975Z",
     "start_time": "2017-05-15T18:31:23.485571Z"
    },
    "collapsed": true,
    "run_control": {
     "frozen": false,
     "read_only": false
    }
   },
   "outputs": [],
   "source": [
    "ckftp.get_file('17082_17087ra.bc', '17082_17087ra.bc')"
   ]
  },
  {
   "cell_type": "code",
   "execution_count": 54,
   "metadata": {
    "ExecuteTime": {
     "end_time": "2017-05-15T18:11:44.584711Z",
     "start_time": "2017-05-15T18:11:44.409043Z"
    },
    "run_control": {
     "frozen": false,
     "read_only": false
    }
   },
   "outputs": [
    {
     "name": "stdout",
     "output_type": "stream",
     "text": [
      "total 13896\r\n",
      "-rw-r--r--@ 1 klay6683  2260  6920192 May 15 12:11 17082_17087ra.bc\r\n",
      "-rw-r--r--@ 1 klay6683  2260    14937 May 15 12:10 cassini_spice_kernels.ipynb\r\n",
      "-rw-r--r--@ 1 klay6683  2260    44105 May  9 23:33 downloading_index_files.ipynb\r\n",
      "-rw-r--r--@ 1 klay6683  2260    52641 May  8  2016 parse_roses_calendar.ipynb\r\n",
      "-rw-r--r--@ 1 klay6683  2260    33954 Jan 19 16:55 planet4_hirise_index_parsing.ipynb\r\n",
      "-rw-r--r--@ 1 klay6683  2260     2294 Dec 20 13:36 planet4_metadata.csv\r\n",
      "-rw-r--r--@ 1 klay6683  2260    34880 Apr 20  2015 planetary constants.ipynb\r\n"
     ]
    }
   ],
   "source": []
  },
  {
   "cell_type": "code",
   "execution_count": null,
   "metadata": {
    "collapsed": true,
    "run_control": {
     "frozen": false,
     "read_only": false
    }
   },
   "outputs": [],
   "source": []
  }
 ],
 "metadata": {
  "kernelspec": {
   "display_name": "Python [conda env:stable]",
   "language": "python",
   "name": "conda-env-stable-py"
  },
  "language_info": {
   "codemirror_mode": {
    "name": "ipython",
    "version": 3
   },
   "file_extension": ".py",
   "mimetype": "text/x-python",
   "name": "python",
   "nbconvert_exporter": "python",
   "pygments_lexer": "ipython3",
   "version": "3.6.1"
  },
  "toc": {
   "colors": {
    "hover_highlight": "#DAA520",
    "running_highlight": "#FF0000",
    "selected_highlight": "#FFD700"
   },
   "moveMenuLeft": true,
   "nav_menu": {
    "height": "66px",
    "width": "252px"
   },
   "navigate_menu": true,
   "number_sections": false,
   "sideBar": false,
   "threshold": 4,
   "toc_cell": false,
   "toc_section_display": "block",
   "toc_window_display": false,
   "widenNotebook": false
  }
 },
 "nbformat": 4,
 "nbformat_minor": 2
}
